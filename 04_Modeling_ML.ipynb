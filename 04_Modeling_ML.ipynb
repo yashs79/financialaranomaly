{
  "cells": [
    {
      "cell_type": "markdown",
      "metadata": {
        "id": "view-in-github",
        "colab_type": "text"
      },
      "source": [
        "<a href=\"https://colab.research.google.com/github/yashs79/financialaranomaly/blob/main/04_Modeling_ML.ipynb\" target=\"_parent\"><img src=\"https://colab.research.google.com/assets/colab-badge.svg\" alt=\"Open In Colab\"/></a>"
      ]
    },
    {
      "cell_type": "markdown",
      "id": "7efe1f59-0f3d-4a53-9ca0-675d3bf66817",
      "metadata": {
        "id": "7efe1f59-0f3d-4a53-9ca0-675d3bf66817",
        "tags": []
      },
      "source": [
        "## **4. Model Selection and Implementation - Anomaly Detection Methods**\n"
      ]
    },
    {
      "cell_type": "markdown",
      "id": "cedf1eb2-4a69-4312-8cc1-f9a16f0e7fea",
      "metadata": {
        "id": "cedf1eb2-4a69-4312-8cc1-f9a16f0e7fea"
      },
      "source": [
        "#### Importing libraries"
      ]
    },
    {
      "cell_type": "code",
      "execution_count": null,
      "id": "3560937e-cc90-4e49-b79e-a4ab1b628a9b",
      "metadata": {
        "id": "3560937e-cc90-4e49-b79e-a4ab1b628a9b"
      },
      "outputs": [],
      "source": [
        "import pandas as pd\n",
        "import numpy as np\n",
        "\n",
        "import matplotlib.pyplot as plt\n",
        "%matplotlib inline\n",
        "import seaborn as sns\n",
        "sns.set(style=\"whitegrid\")\n",
        "\n",
        "# pre-processing\n",
        "from sklearn.model_selection import train_test_split, GridSearchCV\n",
        "from sklearn.preprocessing import StandardScaler\n",
        "from sklearn.compose import ColumnTransformer\n",
        "\n",
        "# over-sampling\n",
        "from imblearn.over_sampling import SMOTE\n",
        "\n",
        "# classification models\n",
        "from sklearn.ensemble import IsolationForest\n",
        "from sklearn.neighbors import LocalOutlierFactor\n",
        "from sklearn.mixture import GaussianMixture\n",
        "\n",
        "# performance metrics\n",
        "from sklearn.metrics import accuracy_score, precision_score, recall_score, f1_score, roc_auc_score, confusion_matrix, classification_report, make_scorer\n",
        "from sklearn.metrics import auc, roc_curve, average_precision_score, PrecisionRecallDisplay\n",
        "from imblearn.metrics import classification_report_imbalanced\n",
        "np.random.seed(23)"
      ]
    },
    {
      "cell_type": "markdown",
      "id": "decbeeae-5c03-4ddf-a907-9f352e9200e1",
      "metadata": {
        "id": "decbeeae-5c03-4ddf-a907-9f352e9200e1"
      },
      "source": [
        "#### Loading data"
      ]
    },
    {
      "cell_type": "code",
      "execution_count": null,
      "id": "2fedfe5e-0b2a-4073-b3c3-6e9d2d3ba5f6",
      "metadata": {
        "id": "2fedfe5e-0b2a-4073-b3c3-6e9d2d3ba5f6"
      },
      "outputs": [],
      "source": [
        "raw_data = pd.read_csv('/content/creditcard.csv')\n",
        "\n",
        "# Stratified Random Sampling\n",
        "X_train_strat = pd.read_csv('/content/X_train_strat.csv')\n",
        "X_test_strat = pd.read_csv('/content/X_test_strat.csv')\n",
        "y_train_strat = pd.read_csv('/content/y_train_strat.csv')\n",
        "y_test_strat = pd.read_csv('/content/y_test_strat.csv')\n",
        "\n",
        "# Over Sampling\n",
        "X_train_os = pd.read_csv('/content/X_train_os.csv')\n",
        "X_test_os = pd.read_csv('/content/X_test_os.csv')\n",
        "y_train_os = pd.read_csv('/content/y_train_os.csv')\n",
        "y_test_os = pd.read_csv('/content/y_test_os.csv')\n",
        "\n",
        "# Over Sampling with SMOTE\n",
        "X_train_smote = pd.read_csv('/content/X_train_smote.csv')\n",
        "X_test_smote = pd.read_csv('/content/X_test_smote.csv')\n",
        "y_train_smote = pd.read_csv('/content/y_train_smote.csv')\n",
        "y_test_smote = pd.read_csv('/content/y_test_smote.csv')"
      ]
    },
    {
      "cell_type": "markdown",
      "id": "dbbaf300-4cd6-4c27-8b77-29340662a5e3",
      "metadata": {
        "id": "dbbaf300-4cd6-4c27-8b77-29340662a5e3"
      },
      "source": [
        "## 1. Outlier Detection(Unsupervised Anomaly Detection)"
      ]
    },
    {
      "cell_type": "code",
      "execution_count": null,
      "id": "71b5400e-8d4e-4522-aa1b-e32c5873eeed",
      "metadata": {
        "colab": {
          "base_uri": "https://localhost:8080/"
        },
        "id": "71b5400e-8d4e-4522-aa1b-e32c5873eeed",
        "outputId": "9b5e0210-b3eb-4ab9-9156-a4f34fd241e7"
      },
      "outputs": [
        {
          "output_type": "stream",
          "name": "stdout",
          "text": [
            "X:(284807, 30), y:(284807,)\n"
          ]
        }
      ],
      "source": [
        "X, y =  raw_data.iloc[:,:-1], raw_data.iloc[:,-1]\n",
        "\n",
        "ct = ColumnTransformer([('somename', StandardScaler(), [0,-1])], remainder='passthrough')\n",
        "\n",
        "X_full = ct.fit_transform(X)\n",
        "\n",
        "print(f'X:{X.shape}, y:{y.shape}')"
      ]
    },
    {
      "cell_type": "markdown",
      "id": "4dfe1855-cafe-478d-8c2b-709fd8a1a897",
      "metadata": {
        "id": "4dfe1855-cafe-478d-8c2b-709fd8a1a897"
      },
      "source": [
        "### 1.1 Isolation Random Forest\n",
        "\n",
        "- Found the following as best params with GridSearchCV with scoring = `Average Precision`"
      ]
    },
    {
      "cell_type": "code",
      "execution_count": null,
      "id": "1de888f3-1f63-4a57-b6a3-5d9f794213b1",
      "metadata": {
        "colab": {
          "base_uri": "https://localhost:8080/"
        },
        "id": "1de888f3-1f63-4a57-b6a3-5d9f794213b1",
        "outputId": "e3e0b296-416f-4092-abc4-62b6de3f2b0e"
      },
      "outputs": [
        {
          "output_type": "stream",
          "name": "stdout",
          "text": [
            "[[266777  17538]\n",
            " [    65    427]]\n",
            "              precision    recall  f1-score   support\n",
            "\n",
            "           0       1.00      0.94      0.97    284315\n",
            "           1       0.02      0.87      0.05       492\n",
            "\n",
            "    accuracy                           0.94    284807\n",
            "   macro avg       0.51      0.90      0.51    284807\n",
            "weighted avg       1.00      0.94      0.97    284807\n",
            "\n",
            "CPU times: user 2.84 s, sys: 129 ms, total: 2.97 s\n",
            "Wall time: 2.96 s\n"
          ]
        }
      ],
      "source": [
        "%%time\n",
        "\n",
        "# Train the isolation forest model\n",
        "if_model = IsolationForest(n_estimators=120,\n",
        "                           contamination='auto',\n",
        "                           random_state=23,\n",
        "                           bootstrap=True,\n",
        "                           max_features=5,\n",
        "                           max_samples=125,)\n",
        "\n",
        "if_model.fit(X_full)\n",
        "\n",
        "# Predict the anomalies\n",
        "if_prediction = if_model.predict(X_full)\n",
        "\n",
        "# Change the anomalies' values to make it consistent with the true values\n",
        "if_prediction = [1 if i==-1 else 0 for i in if_prediction]\n",
        "\n",
        "# Check the model performance\n",
        "print(confusion_matrix(y, if_prediction))\n",
        "print(classification_report(y, if_prediction))"
      ]
    },
    {
      "cell_type": "markdown",
      "id": "d84a2d6a-3a6c-4412-8827-a53a37afc15f",
      "metadata": {
        "id": "d84a2d6a-3a6c-4412-8827-a53a37afc15f"
      },
      "source": [
        "## 2. Local Outlier Factor"
      ]
    },
    {
      "cell_type": "code",
      "execution_count": null,
      "id": "5ae1345f-c055-4e29-b394-d330bf998f25",
      "metadata": {
        "id": "5ae1345f-c055-4e29-b394-d330bf998f25"
      },
      "outputs": [],
      "source": [
        "X_train_normal = X_train_strat.loc[y_train_strat['Class']==0]\n",
        "X_train_anomaly = X_train_strat.loc[y_train_strat['Class']==1]\n",
        "\n",
        "y_train_normal = y_train_strat[y_train_strat['Class']==0]\n",
        "y_train_anomaly = y_train_strat[y_train_strat['Class']==1]"
      ]
    },
    {
      "cell_type": "code",
      "execution_count": null,
      "id": "d44ac899-76c4-4765-814e-12a914b475c1",
      "metadata": {
        "colab": {
          "base_uri": "https://localhost:8080/"
        },
        "id": "d44ac899-76c4-4765-814e-12a914b475c1",
        "outputId": "21a57a45-f8c8-4362-9eb1-9983433f6da4"
      },
      "outputs": [
        {
          "output_type": "stream",
          "name": "stdout",
          "text": [
            "[[275351   8964]\n",
            " [    69    423]]\n",
            "              precision    recall  f1-score   support\n",
            "\n",
            "           0       1.00      0.97      0.98    284315\n",
            "           1       0.05      0.86      0.09       492\n",
            "\n",
            "    accuracy                           0.97    284807\n",
            "   macro avg       0.52      0.91      0.53    284807\n",
            "weighted avg       1.00      0.97      0.98    284807\n",
            "\n"
          ]
        }
      ],
      "source": [
        "clf = LocalOutlierFactor(n_neighbors=1000)\n",
        "clf_prediction = clf.fit_predict(X_full)\n",
        "clf_prediction = [1 if i==-1 else 0 for i in clf_prediction]\n",
        "\n",
        "print(confusion_matrix(y, clf_prediction))\n",
        "print(classification_report(y, clf_prediction))"
      ]
    }
  ],
  "metadata": {
    "kernelspec": {
      "display_name": "Python 3",
      "name": "python3"
    },
    "language_info": {
      "codemirror_mode": {
        "name": "ipython",
        "version": 3
      },
      "file_extension": ".py",
      "mimetype": "text/x-python",
      "name": "python",
      "nbconvert_exporter": "python",
      "pygments_lexer": "ipython3",
      "version": "3.9.12"
    },
    "colab": {
      "provenance": [],
      "gpuType": "T4",
      "include_colab_link": true
    },
    "accelerator": "GPU"
  },
  "nbformat": 4,
  "nbformat_minor": 5
}