{
  "cells": [
    {
      "cell_type": "markdown",
      "metadata": {
        "id": "view-in-github",
        "colab_type": "text"
      },
      "source": [
        "<a href=\"https://colab.research.google.com/github/yashs79/financialaranomaly/blob/main/03_Modeling.ipynb\" target=\"_parent\"><img src=\"https://colab.research.google.com/assets/colab-badge.svg\" alt=\"Open In Colab\"/></a>"
      ]
    },
    {
      "cell_type": "markdown",
      "id": "abdcf430-03e3-48a1-b7fb-a3a642b901e9",
      "metadata": {
        "id": "abdcf430-03e3-48a1-b7fb-a3a642b901e9"
      },
      "source": [
        "## **3. Model Selection and Implementation**\n"
      ]
    },
    {
      "cell_type": "markdown",
      "id": "86de0502-5ed9-47d3-9b76-3075c20b8e0a",
      "metadata": {
        "id": "86de0502-5ed9-47d3-9b76-3075c20b8e0a"
      },
      "source": [
        "#### Importing libraries"
      ]
    },
    {
      "cell_type": "code",
      "execution_count": null,
      "id": "33ba4732-b4d2-42fa-a42e-15e1638c213e",
      "metadata": {
        "id": "33ba4732-b4d2-42fa-a42e-15e1638c213e"
      },
      "outputs": [],
      "source": [
        "import pandas as pd\n",
        "import numpy as np\n",
        "\n",
        "import matplotlib.pyplot as plt\n",
        "%matplotlib inline\n",
        "import seaborn as sns\n",
        "sns.set(style=\"whitegrid\")\n",
        "\n",
        "# pre-processing\n",
        "from sklearn.model_selection import train_test_split, GridSearchCV\n",
        "from sklearn.preprocessing import StandardScaler\n",
        "from sklearn.compose import ColumnTransformer\n",
        "\n",
        "# over-sampling\n",
        "from imblearn.over_sampling import SMOTE\n",
        "\n",
        "# classification models\n",
        "from sklearn.linear_model import LogisticRegression\n",
        "from sklearn.neighbors import KNeighborsClassifier\n",
        "from sklearn.tree import DecisionTreeClassifier\n",
        "from sklearn import tree\n",
        "from sklearn.ensemble import RandomForestClassifier, IsolationForest\n",
        "\n",
        "# Neural Networks\n",
        "import tensorflow as tf\n",
        "from tensorflow.keras.models import Model, Sequential\n",
        "from tensorflow.keras.layers import Input, Dense\n",
        "from tensorflow.keras import layers, losses, regularizers\n",
        "\n",
        "# performance metrics\n",
        "from sklearn.metrics import accuracy_score, precision_score, recall_score, f1_score, roc_auc_score, confusion_matrix, classification_report, make_scorer\n",
        "from sklearn.metrics import auc, roc_curve, average_precision_score, PrecisionRecallDisplay\n",
        "from sklearn.neighbors import KNeighborsClassifier\n",
        "from imblearn.metrics import classification_report_imbalanced\n",
        "np.random.seed(23)"
      ]
    },
    {
      "cell_type": "markdown",
      "id": "521e051d-4306-468f-a571-77e4c3fb3a5a",
      "metadata": {
        "id": "521e051d-4306-468f-a571-77e4c3fb3a5a"
      },
      "source": [
        "#### Loading data"
      ]
    },
    {
      "cell_type": "code",
      "execution_count": null,
      "id": "be36c919-1ea6-4a53-a25e-0bfb1e1ea56f",
      "metadata": {
        "id": "be36c919-1ea6-4a53-a25e-0bfb1e1ea56f"
      },
      "outputs": [],
      "source": [
        "raw_data = pd.read_csv('/content/creditcard.csv')\n",
        "\n",
        "# Stratified Random Sampling\n",
        "X_train_strat = pd.read_csv('/content/X_train_strat.csv')\n",
        "X_test_strat = pd.read_csv('/content/X_test_strat.csv')\n",
        "y_train_strat = pd.read_csv('/content/y_train_strat.csv')\n",
        "y_test_strat = pd.read_csv('/content/y_test_strat.csv')\n",
        "\n",
        "# Over Sampling\n",
        "X_train_os = pd.read_csv('/content/X_train_os.csv')\n",
        "X_test_os = pd.read_csv('/content/X_test_os.csv')\n",
        "y_train_os = pd.read_csv('/content/y_train_os.csv')\n",
        "y_test_os = pd.read_csv('/content/y_test_os.csv')\n",
        "\n",
        "# Over Sampling with SMOTE\n",
        "X_train_smote = pd.read_csv('/content/X_train_smote.csv')\n",
        "X_test_smote = pd.read_csv('/content/X_test_smote.csv')\n",
        "y_train_smote = pd.read_csv('/content/y_train_smote.csv')\n",
        "y_test_smote = pd.read_csv('/content/y_test_smote.csv')"
      ]
    },
    {
      "cell_type": "markdown",
      "id": "fc5445b8-27d4-45f0-a0c4-f92d445d383f",
      "metadata": {
        "id": "fc5445b8-27d4-45f0-a0c4-f92d445d383f"
      },
      "source": [
        "### 3.1 Logistic Regression"
      ]
    },
    {
      "cell_type": "markdown",
      "id": "81a37a3e-7fae-4f9e-a290-3854fd2532d0",
      "metadata": {
        "id": "81a37a3e-7fae-4f9e-a290-3854fd2532d0"
      },
      "source": [
        "###### 3.1.1 Stratified Random Sampling"
      ]
    },
    {
      "cell_type": "code",
      "execution_count": null,
      "id": "6a4fb482-37eb-4379-8c3c-82c16caef623",
      "metadata": {
        "colab": {
          "base_uri": "https://localhost:8080/"
        },
        "id": "6a4fb482-37eb-4379-8c3c-82c16caef623",
        "outputId": "f769785b-5d9c-4ed9-ec03-b85ec6cc63b2"
      },
      "outputs": [
        {
          "output_type": "stream",
          "name": "stdout",
          "text": [
            "Confusion Matrix\n",
            "[[85284    11]\n",
            " [   54    94]]\n",
            "              precision    recall  f1-score   support\n",
            "\n",
            "           0       1.00      1.00      1.00     85295\n",
            "           1       0.90      0.64      0.74       148\n",
            "\n",
            "    accuracy                           1.00     85443\n",
            "   macro avg       0.95      0.82      0.87     85443\n",
            "weighted avg       1.00      1.00      1.00     85443\n",
            "\n"
          ]
        }
      ],
      "source": [
        "logreg1 = LogisticRegression() # instantiate the Logistic Regression classifier\n",
        "\n",
        "clf1 = logreg1.fit(X_train_strat, y_train_strat['Class']) # fit the classifier to the imbalanced data\n",
        "pred1 = clf1.predict(X_test_strat) # predict on the training data\n",
        "\n",
        "y_score1 = clf1.predict_proba(X_test_strat)[:, 1]\n",
        "\n",
        "# Confusion Matrix\n",
        "print(f'Confusion Matrix\\n{confusion_matrix(y_test_strat, pred1)}')# Accuracy\n",
        "print(classification_report(y_test_strat, pred1))"
      ]
    },
    {
      "cell_type": "markdown",
      "id": "88187cd8-e3d4-4a56-a31c-04b01e2d616b",
      "metadata": {
        "id": "88187cd8-e3d4-4a56-a31c-04b01e2d616b"
      },
      "source": [
        "#### 3.2.2 Over Sampling"
      ]
    },
    {
      "cell_type": "code",
      "execution_count": null,
      "id": "792a521a-1c5d-405a-b2d1-47d0dc108b63",
      "metadata": {
        "id": "792a521a-1c5d-405a-b2d1-47d0dc108b63",
        "colab": {
          "base_uri": "https://localhost:8080/"
        },
        "outputId": "bdfc6559-79de-4493-9d64-7cd34afe40b9"
      },
      "outputs": [
        {
          "output_type": "stream",
          "name": "stdout",
          "text": [
            "Confusion Matrix\n",
            "[[273247  10822]\n",
            " [    14    232]]\n",
            "              precision    recall  f1-score   support\n",
            "\n",
            "           0       1.00      0.96      0.98    284069\n",
            "           1       0.02      0.94      0.04       246\n",
            "\n",
            "    accuracy                           0.96    284315\n",
            "   macro avg       0.51      0.95      0.51    284315\n",
            "weighted avg       1.00      0.96      0.98    284315\n",
            "\n"
          ]
        }
      ],
      "source": [
        "logreg2 = LogisticRegression() # instantiate the Logistic Regression classifier\n",
        "\n",
        "clf2 = logreg2.fit(X_train_os, y_train_os['Class']) # fit the classifier to the imbalanced data\n",
        "pred2 = clf2.predict(X_test_os) # predict on the training data\n",
        "\n",
        "y_score2 = clf2.predict_proba(X_test_os)[:, 1]\n",
        "\n",
        "# Confusion Matrix\n",
        "print(f'Confusion Matrix\\n{confusion_matrix(y_test_os, pred2)}')# Accuracy\n",
        "print(classification_report(y_test_os, pred2))"
      ]
    },
    {
      "cell_type": "markdown",
      "id": "68b43f99-25da-4672-81a8-581ee3c284e4",
      "metadata": {
        "id": "68b43f99-25da-4672-81a8-581ee3c284e4"
      },
      "source": [
        "#### 3.2.3 Over Sampling(`SMOTE`)"
      ]
    },
    {
      "cell_type": "code",
      "execution_count": null,
      "id": "9a3e0b84-4d89-44a4-b5cd-77db0ec84217",
      "metadata": {
        "id": "9a3e0b84-4d89-44a4-b5cd-77db0ec84217",
        "colab": {
          "base_uri": "https://localhost:8080/"
        },
        "outputId": "a8015cf1-20f2-4efa-9896-13807d0757b8"
      },
      "outputs": [
        {
          "output_type": "stream",
          "name": "stdout",
          "text": [
            "[[83177  2118]\n",
            " [   19   129]]\n",
            "              precision    recall  f1-score   support\n",
            "\n",
            "           0       1.00      0.98      0.99     85295\n",
            "           1       0.06      0.87      0.11       148\n",
            "\n",
            "    accuracy                           0.97     85443\n",
            "   macro avg       0.53      0.92      0.55     85443\n",
            "weighted avg       1.00      0.97      0.99     85443\n",
            "\n"
          ]
        }
      ],
      "source": [
        "logreg3 = LogisticRegression() # instantiate the Logistic Regression classifier\n",
        "\n",
        "clf3 = logreg3.fit(X_train_smote, y_train_smote['Class']) # fit the classifier to the imbalanced data\n",
        "pred3 = clf3.predict(X_test_smote) # predict on the training data\n",
        "\n",
        "y_score3 = clf3.predict_proba(X_test_smote)[:, 1]\n",
        "\n",
        "# Confusion Matrix\n",
        "print(confusion_matrix(y_test_smote, pred3))# Accuracy\n",
        "print(classification_report(y_test_smote, pred3))"
      ]
    },
    {
      "cell_type": "markdown",
      "id": "34dc7ce2-9bc1-409d-ac0d-aae3950b5905",
      "metadata": {
        "id": "34dc7ce2-9bc1-409d-ac0d-aae3950b5905"
      },
      "source": [
        "### Logistic Regression Summary:\n",
        "\n",
        "Logistic Regression classifier trained on\n",
        "- stratified random sampling: clf-1\n",
        "- over sampling (default): clf-2\n",
        "- over sampling (SMOTE): clf-3\n",
        "\n",
        "1. clf-1 seems to have best performance(AUPRC) among all 3 variants.\n",
        "2. clf-2 performs the worst. This is probably due to very less training data(only #246 samples for each class).\n",
        "3. clf-3 has higher recall than clf1 but has very less precision."
      ]
    },
    {
      "cell_type": "markdown",
      "id": "9cc3e3cd-a3bb-4abf-8462-7acfb247034a",
      "metadata": {
        "id": "9cc3e3cd-a3bb-4abf-8462-7acfb247034a"
      },
      "source": [
        "### 4.2 K-Nearest Neighbors"
      ]
    },
    {
      "cell_type": "markdown",
      "id": "495b7121-fc83-485e-91ad-b312897f686e",
      "metadata": {
        "id": "495b7121-fc83-485e-91ad-b312897f686e"
      },
      "source": [
        "#### 4.2.1 Stratified Random Sampling"
      ]
    },
    {
      "cell_type": "code",
      "execution_count": null,
      "id": "7c54d1e8-321c-46ae-965b-d15be1ba1f2b",
      "metadata": {
        "id": "7c54d1e8-321c-46ae-965b-d15be1ba1f2b"
      },
      "outputs": [],
      "source": [
        "# %%time\n",
        "\n",
        "# knn = KNeighborsClassifier()\n",
        "\n",
        "# param_grid = {'n_neighbors': np.arange(1, 16)}\n",
        "\n",
        "# knn_gscv = GridSearchCV(estimator=knn,\n",
        "#                         param_grid=param_grid,\n",
        "#                         scoring='average_precision',\n",
        "#                         cv=3,\n",
        "#                         n_jobs=-1,\n",
        "#                         verbose=3)\n",
        "\n",
        "# knn_gscv.fit(X_train_strat, y_train_strat['Class'])"
      ]
    },
    {
      "cell_type": "code",
      "execution_count": null,
      "id": "4e2980f9-8d8d-40e9-93ac-41898207e67b",
      "metadata": {
        "id": "4e2980f9-8d8d-40e9-93ac-41898207e67b"
      },
      "outputs": [],
      "source": [
        "# knn_gscv.best_params_"
      ]
    },
    {
      "cell_type": "code",
      "execution_count": null,
      "id": "0772784d-adfd-4e6a-b7db-c5e3e75f16d6",
      "metadata": {
        "colab": {
          "base_uri": "https://localhost:8080/"
        },
        "id": "0772784d-adfd-4e6a-b7db-c5e3e75f16d6",
        "outputId": "8c2a375e-9073-4480-dd3e-fe3230218efe"
      },
      "outputs": [
        {
          "output_type": "stream",
          "name": "stdout",
          "text": [
            "KNeighborsClassifier(n_neighbors=6)\n",
            "Confusion Matrix\n",
            "[[85280    15]\n",
            " [   34   114]]\n",
            "              precision    recall  f1-score   support\n",
            "\n",
            "           0       1.00      1.00      1.00     85295\n",
            "           1       0.88      0.77      0.82       148\n",
            "\n",
            "    accuracy                           1.00     85443\n",
            "   macro avg       0.94      0.89      0.91     85443\n",
            "weighted avg       1.00      1.00      1.00     85443\n",
            "\n"
          ]
        }
      ],
      "source": [
        "knn1 = KNeighborsClassifier(n_neighbors=6) # instantiate the K-Nearest Neighbors classifier\n",
        "print(knn1)\n",
        "\n",
        "clf1 = knn1.fit(X_train_strat, y_train_strat['Class']) # fit the classifier to the imbalanced data\n",
        "pred1 = clf1.predict(X_test_strat) # predict on the training data\n",
        "\n",
        "y_score1 = clf1.predict_proba(X_test_strat)[:, 1]\n",
        "\n",
        "# Confusion Matrix\n",
        "print(f'Confusion Matrix\\n{confusion_matrix(y_test_strat, pred1)}')# Accuracy\n",
        "print(classification_report(y_test_strat, pred1))"
      ]
    },
    {
      "cell_type": "markdown",
      "id": "5696cd33-8924-4bac-be1b-7c145f1981d5",
      "metadata": {
        "id": "5696cd33-8924-4bac-be1b-7c145f1981d5"
      },
      "source": [
        "#### 4.2.2 Over Sampling"
      ]
    },
    {
      "cell_type": "code",
      "execution_count": null,
      "id": "3b31ad8d-ac16-4cf1-ba68-e28a83448a89",
      "metadata": {
        "id": "3b31ad8d-ac16-4cf1-ba68-e28a83448a89"
      },
      "outputs": [],
      "source": [
        "# %%time\n",
        "\n",
        "# knn = KNeighborsClassifier()\n",
        "\n",
        "# param_grid = {'n_neighbors': np.arange(1,16)}\n",
        "\n",
        "# knn_gscv = GridSearchCV(estimator=knn,\n",
        "#                         param_grid=param_grid,\n",
        "#                         scoring='average_precision',\n",
        "#                         cv=3,\n",
        "#                         n_jobs=-1,\n",
        "#                         verbose=2)\n",
        "\n",
        "# knn_gscv.fit(X_train_os, y_train_os['Class'])\n",
        "\n",
        "# knn_gscv.best_params_"
      ]
    },
    {
      "cell_type": "code",
      "execution_count": null,
      "id": "f006f01a-bfaf-4a41-99f3-bf0d40790d34",
      "metadata": {
        "id": "f006f01a-bfaf-4a41-99f3-bf0d40790d34",
        "colab": {
          "base_uri": "https://localhost:8080/"
        },
        "outputId": "7429bf32-fe99-484f-ccfc-83aa8419214b"
      },
      "outputs": [
        {
          "output_type": "stream",
          "name": "stdout",
          "text": [
            "Confusion Matrix\n",
            "[[281770   2299]\n",
            " [    30    216]]\n",
            "              precision    recall  f1-score   support\n",
            "\n",
            "           0       1.00      0.99      1.00    284069\n",
            "           1       0.09      0.88      0.16       246\n",
            "\n",
            "    accuracy                           0.99    284315\n",
            "   macro avg       0.54      0.93      0.58    284315\n",
            "weighted avg       1.00      0.99      1.00    284315\n",
            "\n"
          ]
        }
      ],
      "source": [
        "knn2 = KNeighborsClassifier(n_neighbors=14) # instantiate the K-Nearest Neighbors classifier\n",
        "clf2 = knn2.fit(X_train_os, y_train_os['Class']) # fit the classifier to the imbalanced data\n",
        "pred2 = clf2.predict(X_test_os) # predict on the training data\n",
        "\n",
        "y_score2 = clf2.predict_proba(X_test_os)[:, 1]\n",
        "\n",
        "# Confusion Matrix\n",
        "print(f'Confusion Matrix\\n{confusion_matrix(y_test_os, pred2)}')# Accuracy\n",
        "print(classification_report(y_test_os, pred2))"
      ]
    },
    {
      "cell_type": "markdown",
      "id": "7c2f5ba9-0f29-4f8f-a938-a0ea2271177e",
      "metadata": {
        "id": "7c2f5ba9-0f29-4f8f-a938-a0ea2271177e"
      },
      "source": [
        "#### 4.2.3 Over Sampling (SMOTE)"
      ]
    },
    {
      "cell_type": "code",
      "execution_count": null,
      "id": "c8cb1957-2bf6-43db-889f-e21ab253a58d",
      "metadata": {
        "id": "c8cb1957-2bf6-43db-889f-e21ab253a58d"
      },
      "outputs": [],
      "source": [
        "# %%time\n",
        "\n",
        "# knn = KNeighborsClassifier()\n",
        "\n",
        "# param_grid = {'n_neighbors': np.arange(1,16)}\n",
        "\n",
        "# knn_gscv = GridSearchCV(estimator=knn,\n",
        "#                         param_grid=param_grid,\n",
        "#                         scoring='average_precision',\n",
        "#                         cv=3,\n",
        "#                         n_jobs=-1,\n",
        "#                         verbose=2)\n",
        "\n",
        "# knn_gscv.fit(X_train_smote, y_train_smote['Class'])\n",
        "\n",
        "# knn_gscv.best_params_"
      ]
    },
    {
      "cell_type": "code",
      "execution_count": null,
      "id": "e9b94d77-4a0f-415a-a87d-4bd5700d22bb",
      "metadata": {
        "id": "e9b94d77-4a0f-415a-a87d-4bd5700d22bb",
        "colab": {
          "base_uri": "https://localhost:8080/"
        },
        "outputId": "75579472-e7f7-4b3b-e516-4882eb80947a"
      },
      "outputs": [
        {
          "output_type": "stream",
          "name": "stdout",
          "text": [
            "[[84966   329]\n",
            " [   26   122]]\n",
            "              precision    recall  f1-score   support\n",
            "\n",
            "           0       1.00      1.00      1.00     85295\n",
            "           1       0.27      0.82      0.41       148\n",
            "\n",
            "    accuracy                           1.00     85443\n",
            "   macro avg       0.64      0.91      0.70     85443\n",
            "weighted avg       1.00      1.00      1.00     85443\n",
            "\n"
          ]
        }
      ],
      "source": [
        "knn3 = KNeighborsClassifier(n_neighbors=15) # instantiate the K-Nearest Neighbors classifier\n",
        "\n",
        "clf3 = knn3.fit(X_train_smote, y_train_smote['Class']) # fit the classifier to the imbalanced data\n",
        "pred3 = clf3.predict(X_test_smote) # predict on the training data\n",
        "\n",
        "y_score3 = clf3.predict_proba(X_test_smote)[:, 1]\n",
        "\n",
        "# Confusion Matrix\n",
        "print(confusion_matrix(y_test_smote, pred3))# Accuracy\n",
        "print(classification_report(y_test_smote, pred3))"
      ]
    },
    {
      "cell_type": "markdown",
      "id": "eb430c21-53d9-4962-87d7-a02a1d3f8a60",
      "metadata": {
        "id": "eb430c21-53d9-4962-87d7-a02a1d3f8a60"
      },
      "source": [
        "### KNN Classifier Summary:\n",
        "\n",
        "KNN Classifier trained on\n",
        "- stratified random sampling: clf1\n",
        "- over sampling (default): clf2\n",
        "- over sampling (SMOTE): clf3\n",
        "\n",
        "1. clf-1(k=6) seems to work best among all 3 variants with an f1-score of 0.82\n",
        "2. clf-2(k=14) performs the worst. This is probably due to very less training data.\n",
        "3. clf-3(k=) has higher recall than clf1 but has very less precision."
      ]
    },
    {
      "cell_type": "markdown",
      "id": "b5bb9d34-ed89-4581-a50b-4ab2be86fa3b",
      "metadata": {
        "id": "b5bb9d34-ed89-4581-a50b-4ab2be86fa3b"
      },
      "source": [
        "### 4.3 Random Forest"
      ]
    },
    {
      "cell_type": "markdown",
      "id": "5911b8f1-64ca-4411-849b-0f3816bbd93a",
      "metadata": {
        "id": "5911b8f1-64ca-4411-849b-0f3816bbd93a"
      },
      "source": [
        "###### 4.3.1 Stratified Random Sampling"
      ]
    },
    {
      "cell_type": "code",
      "execution_count": null,
      "id": "d8fbe49d-bcf1-4322-b49e-d316756563a3",
      "metadata": {
        "colab": {
          "base_uri": "https://localhost:8080/"
        },
        "id": "d8fbe49d-bcf1-4322-b49e-d316756563a3",
        "outputId": "aea06a48-bc5b-4d89-8c6f-25a35504957d"
      },
      "outputs": [
        {
          "output_type": "stream",
          "name": "stdout",
          "text": [
            "RandomForestClassifier(max_depth=10, n_jobs=-1, random_state=23)\n",
            "[[85282    13]\n",
            " [   32   116]]\n",
            "              precision    recall  f1-score   support\n",
            "\n",
            "           0       1.00      1.00      1.00     85295\n",
            "           1       0.90      0.78      0.84       148\n",
            "\n",
            "    accuracy                           1.00     85443\n",
            "   macro avg       0.95      0.89      0.92     85443\n",
            "weighted avg       1.00      1.00      1.00     85443\n",
            "\n"
          ]
        }
      ],
      "source": [
        "clf1 = RandomForestClassifier(max_depth = 10, random_state = 23, n_jobs=-1)\n",
        "print(clf1)\n",
        "\n",
        "clf1.fit(X_train_strat,y_train_strat['Class'])\n",
        "pred1 = clf1.predict(X_test_strat)\n",
        "\n",
        "y_score1 = clf1.predict_proba(X_test_strat)[:, 1]\n",
        "\n",
        "# Confusion Matrix\n",
        "print(confusion_matrix(y_test_strat, pred1))# Accuracy\n",
        "print(classification_report(y_test_strat, pred1))"
      ]
    },
    {
      "cell_type": "markdown",
      "id": "0e23da5f-0f75-465f-b8f7-1cdc5c983ea4",
      "metadata": {
        "id": "0e23da5f-0f75-465f-b8f7-1cdc5c983ea4"
      },
      "source": [
        "#### 4.3.2 Over Sampling"
      ]
    },
    {
      "cell_type": "code",
      "execution_count": null,
      "id": "8fcaa268-1c26-45dc-9e11-cab2a2ea8bca",
      "metadata": {
        "id": "8fcaa268-1c26-45dc-9e11-cab2a2ea8bca",
        "colab": {
          "base_uri": "https://localhost:8080/"
        },
        "outputId": "7363cf53-dc32-41e1-e788-62b174dc0ca7"
      },
      "outputs": [
        {
          "output_type": "stream",
          "name": "stdout",
          "text": [
            "[[277485   6584]\n",
            " [    13    233]]\n",
            "              precision    recall  f1-score   support\n",
            "\n",
            "           0       1.00      0.98      0.99    284069\n",
            "           1       0.03      0.95      0.07       246\n",
            "\n",
            "    accuracy                           0.98    284315\n",
            "   macro avg       0.52      0.96      0.53    284315\n",
            "weighted avg       1.00      0.98      0.99    284315\n",
            "\n"
          ]
        }
      ],
      "source": [
        "clf2 = RandomForestClassifier(max_depth = 10, random_state = 23, n_jobs=-1)\n",
        "clf2.fit(X_train_os,y_train_os['Class'])\n",
        "pred2 = clf2.predict(X_test_os)\n",
        "\n",
        "y_score2 = clf2.predict_proba(X_test_os)[:, 1]\n",
        "\n",
        "# Confusion Matrix\n",
        "print(confusion_matrix(y_test_os, pred2))# Accuracy\n",
        "print(classification_report(y_test_os, pred2))"
      ]
    },
    {
      "cell_type": "markdown",
      "id": "4af97107-68ed-4862-9d50-306cc7c7eaac",
      "metadata": {
        "id": "4af97107-68ed-4862-9d50-306cc7c7eaac"
      },
      "source": [
        "#### 4.3.3 Over Sampling(`SMOTE`)"
      ]
    },
    {
      "cell_type": "code",
      "execution_count": null,
      "id": "9178c70d-f309-46ed-b046-b0da5ad13a3c",
      "metadata": {
        "id": "9178c70d-f309-46ed-b046-b0da5ad13a3c",
        "colab": {
          "base_uri": "https://localhost:8080/"
        },
        "outputId": "20f93601-6dcc-4260-c3b1-5dd617d24d07"
      },
      "outputs": [
        {
          "output_type": "stream",
          "name": "stdout",
          "text": [
            "[[85244    51]\n",
            " [   29   119]]\n",
            "              precision    recall  f1-score   support\n",
            "\n",
            "           0       1.00      1.00      1.00     85295\n",
            "           1       0.70      0.80      0.75       148\n",
            "\n",
            "    accuracy                           1.00     85443\n",
            "   macro avg       0.85      0.90      0.87     85443\n",
            "weighted avg       1.00      1.00      1.00     85443\n",
            "\n"
          ]
        }
      ],
      "source": [
        "clf3 = RandomForestClassifier(max_depth = 15, random_state = 23, n_jobs=-1)\n",
        "clf3.fit(X_train_smote,y_train_smote['Class'])\n",
        "pred3 = clf3.predict(X_test_smote)\n",
        "\n",
        "y_score3 = clf3.predict_proba(X_test_smote)[:, 1]\n",
        "\n",
        "# Confusion Matrix\n",
        "print(confusion_matrix(y_test_smote, pred3))# Accuracy\n",
        "print(classification_report(y_test_smote, pred3))"
      ]
    },
    {
      "cell_type": "markdown",
      "id": "1daee18c-74d8-430d-baca-a507f7b89151",
      "metadata": {
        "id": "1daee18c-74d8-430d-baca-a507f7b89151"
      },
      "source": [
        "### Random Forest Summary:\n",
        "\n",
        "- Random Forest Classifier trained on\n",
        "    - stratified random sampling: clf-1\n",
        "    - over sampling (default): clf-2\n",
        "    - over sampling (SMOTE): clf-3\n",
        "\n",
        "1. clf-1 seems to work best among all 3 variants. It has highest precision(0.90), f1-score(0.84) and auprc of 0.81.\n",
        "2. clf-2 has the best recall(0.93) but also worst precision(0.03) and f1-score(0.07). This is probably due to very less training data.\n",
        "3. clf-3 has higher recall(0.82) than clf1(0.78) but has lower precision(0.54)."
      ]
    },
    {
      "cell_type": "markdown",
      "id": "51136876-b043-41ae-81d1-ed4bced7808f",
      "metadata": {
        "id": "51136876-b043-41ae-81d1-ed4bced7808f"
      },
      "source": [
        "### 4.4 Decision Tree"
      ]
    },
    {
      "cell_type": "markdown",
      "id": "a27fe5b8-1919-45f2-af7b-90f1ef914e2b",
      "metadata": {
        "id": "a27fe5b8-1919-45f2-af7b-90f1ef914e2b"
      },
      "source": [
        "###### 4.4.1 Stratified Random Sampling"
      ]
    },
    {
      "cell_type": "code",
      "execution_count": null,
      "id": "227044f3-0568-423c-a85e-c14fc9886a66",
      "metadata": {
        "colab": {
          "base_uri": "https://localhost:8080/"
        },
        "id": "227044f3-0568-423c-a85e-c14fc9886a66",
        "outputId": "66f14c6c-b147-45ae-8b7c-fb66bad3fd4f"
      },
      "outputs": [
        {
          "output_type": "stream",
          "name": "stdout",
          "text": [
            "DecisionTreeClassifier(max_depth=10, random_state=23)\n",
            "[[85273    22]\n",
            " [   38   110]]\n",
            "              precision    recall  f1-score   support\n",
            "\n",
            "           0       1.00      1.00      1.00     85295\n",
            "           1       0.83      0.74      0.79       148\n",
            "\n",
            "    accuracy                           1.00     85443\n",
            "   macro avg       0.92      0.87      0.89     85443\n",
            "weighted avg       1.00      1.00      1.00     85443\n",
            "\n"
          ]
        }
      ],
      "source": [
        "clf1 = DecisionTreeClassifier(random_state=23, max_depth=10)\n",
        "print(clf1)\n",
        "clf1.fit(X_train_strat,y_train_strat)\n",
        "pred1 = clf1.predict(X_test_strat)\n",
        "\n",
        "y_score1 = clf1.predict_proba(X_test_strat)[:, 1]\n",
        "\n",
        "# Confusion Matrix\n",
        "print(confusion_matrix(y_test_strat, pred1))# Accuracy\n",
        "print(classification_report(y_test_strat, pred1))"
      ]
    },
    {
      "cell_type": "markdown",
      "id": "05774862-c122-4f65-beb9-a06c97d57346",
      "metadata": {
        "id": "05774862-c122-4f65-beb9-a06c97d57346"
      },
      "source": [
        "###### 4.4.2 Over Sampling"
      ]
    },
    {
      "cell_type": "code",
      "execution_count": null,
      "id": "d9fd6b2f-917b-469d-b83f-82e226ea17b6",
      "metadata": {
        "id": "d9fd6b2f-917b-469d-b83f-82e226ea17b6",
        "colab": {
          "base_uri": "https://localhost:8080/"
        },
        "outputId": "042caa05-60fc-4fbf-8969-319745327a23"
      },
      "outputs": [
        {
          "output_type": "stream",
          "name": "stdout",
          "text": [
            "[[256575  27494]\n",
            " [    13    233]]\n",
            "              precision    recall  f1-score   support\n",
            "\n",
            "           0       1.00      0.90      0.95    284069\n",
            "           1       0.01      0.95      0.02       246\n",
            "\n",
            "    accuracy                           0.90    284315\n",
            "   macro avg       0.50      0.93      0.48    284315\n",
            "weighted avg       1.00      0.90      0.95    284315\n",
            "\n"
          ]
        }
      ],
      "source": [
        "clf2 = DecisionTreeClassifier(random_state=23, max_depth=10)\n",
        "clf2.fit(X_train_os,y_train_os)\n",
        "pred2 = clf2.predict(X_test_os)\n",
        "\n",
        "y_score2 = clf2.predict_proba(X_test_os)[:, 1]\n",
        "\n",
        "# Confusion Matrix\n",
        "print(confusion_matrix(y_test_os, pred2))# Accuracy\n",
        "print(classification_report(y_test_os, pred2))"
      ]
    },
    {
      "cell_type": "markdown",
      "id": "4e66375e-251f-4d5f-8a60-24ec9e6cb544",
      "metadata": {
        "id": "4e66375e-251f-4d5f-8a60-24ec9e6cb544"
      },
      "source": [
        "###### 4.4.3 Over Sampling (SMOTE)"
      ]
    },
    {
      "cell_type": "code",
      "execution_count": null,
      "id": "7624e4ad-77e4-40fc-9b6a-82b85089d9da",
      "metadata": {
        "id": "7624e4ad-77e4-40fc-9b6a-82b85089d9da",
        "colab": {
          "base_uri": "https://localhost:8080/"
        },
        "outputId": "00bd1829-46d3-48d3-8e17-0e92b2c9b7cb"
      },
      "outputs": [
        {
          "output_type": "stream",
          "name": "stdout",
          "text": [
            "[[84667   628]\n",
            " [   30   118]]\n",
            "              precision    recall  f1-score   support\n",
            "\n",
            "           0       1.00      0.99      1.00     85295\n",
            "           1       0.16      0.80      0.26       148\n",
            "\n",
            "    accuracy                           0.99     85443\n",
            "   macro avg       0.58      0.89      0.63     85443\n",
            "weighted avg       1.00      0.99      0.99     85443\n",
            "\n"
          ]
        }
      ],
      "source": [
        "clf3=DecisionTreeClassifier(random_state=23, max_depth=10)\n",
        "clf3.fit(X_train_smote,y_train_smote)\n",
        "pred3 = clf3.predict(X_test_smote)\n",
        "\n",
        "y_score3 = clf3.predict_proba(X_test_smote)[:, 1]\n",
        "\n",
        "# Confusion Matrix\n",
        "print(confusion_matrix(y_test_smote, pred3))# Accuracy\n",
        "print(classification_report(y_test_smote, pred3))"
      ]
    },
    {
      "cell_type": "markdown",
      "id": "cb86c52b-c60a-4741-bb9c-e7936880bb9a",
      "metadata": {
        "id": "cb86c52b-c60a-4741-bb9c-e7936880bb9a"
      },
      "source": [
        "### Decision Tree Classifier Summary:\n",
        "\n",
        "- Decision Tree Classifier trained on\n",
        "    - stratified random sampling: clf-1\n",
        "    - over sampling (default): clf-2\n",
        "    - over sampling (SMOTE): clf-3\n",
        "\n",
        "1. clf-1 seems to work best among all 3 variants. It has highest precision(0.83), f1-score(0.79) and auprc(0.62).\n",
        "2. clf-2 has the best recall(0.94) but also worst precision(0.01) and f1-score(0.02). This is probably due to very less training data.\n",
        "3. clf-3 has higher recall(0.80) than clf1(0.74) but has lower precision(0.16)."
      ]
    },
    {
      "cell_type": "markdown",
      "id": "506ffae4-5b67-424e-8a76-ca7b95439167",
      "metadata": {
        "id": "506ffae4-5b67-424e-8a76-ca7b95439167"
      },
      "source": [
        "## Comparing all models on the 3 variants of the dataset"
      ]
    },
    {
      "cell_type": "markdown",
      "id": "fb0364c3-700a-4807-8758-f26396c0d71a",
      "metadata": {
        "id": "fb0364c3-700a-4807-8758-f26396c0d71a"
      },
      "source": [
        "#### 1. AUPRC for stratified random sampling"
      ]
    },
    {
      "cell_type": "code",
      "execution_count": null,
      "id": "d1717223-8e5e-4927-8ee6-bf4f79f83667",
      "metadata": {
        "id": "d1717223-8e5e-4927-8ee6-bf4f79f83667",
        "colab": {
          "base_uri": "https://localhost:8080/",
          "height": 175
        },
        "outputId": "299ffd9e-4af7-4585-b68f-18229d3d3227"
      },
      "outputs": [
        {
          "output_type": "execute_result",
          "data": {
            "text/plain": [
              "                       Recall  Precision  f1-score  Average Precision\n",
              "Logistic Regression  0.635135   0.895238  0.743083           0.569229\n",
              "KNN                  0.770270   0.883721  0.823105           0.681102\n",
              "Random Forest        0.783784   0.899225  0.837545           0.705172\n",
              "Decision Tree        0.743243   0.833333  0.785714           0.619814"
            ],
            "text/html": [
              "\n",
              "  <div id=\"df-362bd9b7-2d2a-42ac-aca9-ce0381b3c6d0\" class=\"colab-df-container\">\n",
              "    <div>\n",
              "<style scoped>\n",
              "    .dataframe tbody tr th:only-of-type {\n",
              "        vertical-align: middle;\n",
              "    }\n",
              "\n",
              "    .dataframe tbody tr th {\n",
              "        vertical-align: top;\n",
              "    }\n",
              "\n",
              "    .dataframe thead th {\n",
              "        text-align: right;\n",
              "    }\n",
              "</style>\n",
              "<table border=\"1\" class=\"dataframe\">\n",
              "  <thead>\n",
              "    <tr style=\"text-align: right;\">\n",
              "      <th></th>\n",
              "      <th>Recall</th>\n",
              "      <th>Precision</th>\n",
              "      <th>f1-score</th>\n",
              "      <th>Average Precision</th>\n",
              "    </tr>\n",
              "  </thead>\n",
              "  <tbody>\n",
              "    <tr>\n",
              "      <th>Logistic Regression</th>\n",
              "      <td>0.635135</td>\n",
              "      <td>0.895238</td>\n",
              "      <td>0.743083</td>\n",
              "      <td>0.569229</td>\n",
              "    </tr>\n",
              "    <tr>\n",
              "      <th>KNN</th>\n",
              "      <td>0.770270</td>\n",
              "      <td>0.883721</td>\n",
              "      <td>0.823105</td>\n",
              "      <td>0.681102</td>\n",
              "    </tr>\n",
              "    <tr>\n",
              "      <th>Random Forest</th>\n",
              "      <td>0.783784</td>\n",
              "      <td>0.899225</td>\n",
              "      <td>0.837545</td>\n",
              "      <td>0.705172</td>\n",
              "    </tr>\n",
              "    <tr>\n",
              "      <th>Decision Tree</th>\n",
              "      <td>0.743243</td>\n",
              "      <td>0.833333</td>\n",
              "      <td>0.785714</td>\n",
              "      <td>0.619814</td>\n",
              "    </tr>\n",
              "  </tbody>\n",
              "</table>\n",
              "</div>\n",
              "    <div class=\"colab-df-buttons\">\n",
              "\n",
              "  <div class=\"colab-df-container\">\n",
              "    <button class=\"colab-df-convert\" onclick=\"convertToInteractive('df-362bd9b7-2d2a-42ac-aca9-ce0381b3c6d0')\"\n",
              "            title=\"Convert this dataframe to an interactive table.\"\n",
              "            style=\"display:none;\">\n",
              "\n",
              "  <svg xmlns=\"http://www.w3.org/2000/svg\" height=\"24px\" viewBox=\"0 -960 960 960\">\n",
              "    <path d=\"M120-120v-720h720v720H120Zm60-500h600v-160H180v160Zm220 220h160v-160H400v160Zm0 220h160v-160H400v160ZM180-400h160v-160H180v160Zm440 0h160v-160H620v160ZM180-180h160v-160H180v160Zm440 0h160v-160H620v160Z\"/>\n",
              "  </svg>\n",
              "    </button>\n",
              "\n",
              "  <style>\n",
              "    .colab-df-container {\n",
              "      display:flex;\n",
              "      gap: 12px;\n",
              "    }\n",
              "\n",
              "    .colab-df-convert {\n",
              "      background-color: #E8F0FE;\n",
              "      border: none;\n",
              "      border-radius: 50%;\n",
              "      cursor: pointer;\n",
              "      display: none;\n",
              "      fill: #1967D2;\n",
              "      height: 32px;\n",
              "      padding: 0 0 0 0;\n",
              "      width: 32px;\n",
              "    }\n",
              "\n",
              "    .colab-df-convert:hover {\n",
              "      background-color: #E2EBFA;\n",
              "      box-shadow: 0px 1px 2px rgba(60, 64, 67, 0.3), 0px 1px 3px 1px rgba(60, 64, 67, 0.15);\n",
              "      fill: #174EA6;\n",
              "    }\n",
              "\n",
              "    .colab-df-buttons div {\n",
              "      margin-bottom: 4px;\n",
              "    }\n",
              "\n",
              "    [theme=dark] .colab-df-convert {\n",
              "      background-color: #3B4455;\n",
              "      fill: #D2E3FC;\n",
              "    }\n",
              "\n",
              "    [theme=dark] .colab-df-convert:hover {\n",
              "      background-color: #434B5C;\n",
              "      box-shadow: 0px 1px 3px 1px rgba(0, 0, 0, 0.15);\n",
              "      filter: drop-shadow(0px 1px 2px rgba(0, 0, 0, 0.3));\n",
              "      fill: #FFFFFF;\n",
              "    }\n",
              "  </style>\n",
              "\n",
              "    <script>\n",
              "      const buttonEl =\n",
              "        document.querySelector('#df-362bd9b7-2d2a-42ac-aca9-ce0381b3c6d0 button.colab-df-convert');\n",
              "      buttonEl.style.display =\n",
              "        google.colab.kernel.accessAllowed ? 'block' : 'none';\n",
              "\n",
              "      async function convertToInteractive(key) {\n",
              "        const element = document.querySelector('#df-362bd9b7-2d2a-42ac-aca9-ce0381b3c6d0');\n",
              "        const dataTable =\n",
              "          await google.colab.kernel.invokeFunction('convertToInteractive',\n",
              "                                                    [key], {});\n",
              "        if (!dataTable) return;\n",
              "\n",
              "        const docLinkHtml = 'Like what you see? Visit the ' +\n",
              "          '<a target=\"_blank\" href=https://colab.research.google.com/notebooks/data_table.ipynb>data table notebook</a>'\n",
              "          + ' to learn more about interactive tables.';\n",
              "        element.innerHTML = '';\n",
              "        dataTable['output_type'] = 'display_data';\n",
              "        await google.colab.output.renderOutput(dataTable, element);\n",
              "        const docLink = document.createElement('div');\n",
              "        docLink.innerHTML = docLinkHtml;\n",
              "        element.appendChild(docLink);\n",
              "      }\n",
              "    </script>\n",
              "  </div>\n",
              "\n",
              "\n",
              "<div id=\"df-f7be9bf0-ca35-4e7b-9515-d0215d1d9b0a\">\n",
              "  <button class=\"colab-df-quickchart\" onclick=\"quickchart('df-f7be9bf0-ca35-4e7b-9515-d0215d1d9b0a')\"\n",
              "            title=\"Suggest charts\"\n",
              "            style=\"display:none;\">\n",
              "\n",
              "<svg xmlns=\"http://www.w3.org/2000/svg\" height=\"24px\"viewBox=\"0 0 24 24\"\n",
              "     width=\"24px\">\n",
              "    <g>\n",
              "        <path d=\"M19 3H5c-1.1 0-2 .9-2 2v14c0 1.1.9 2 2 2h14c1.1 0 2-.9 2-2V5c0-1.1-.9-2-2-2zM9 17H7v-7h2v7zm4 0h-2V7h2v10zm4 0h-2v-4h2v4z\"/>\n",
              "    </g>\n",
              "</svg>\n",
              "  </button>\n",
              "\n",
              "<style>\n",
              "  .colab-df-quickchart {\n",
              "      --bg-color: #E8F0FE;\n",
              "      --fill-color: #1967D2;\n",
              "      --hover-bg-color: #E2EBFA;\n",
              "      --hover-fill-color: #174EA6;\n",
              "      --disabled-fill-color: #AAA;\n",
              "      --disabled-bg-color: #DDD;\n",
              "  }\n",
              "\n",
              "  [theme=dark] .colab-df-quickchart {\n",
              "      --bg-color: #3B4455;\n",
              "      --fill-color: #D2E3FC;\n",
              "      --hover-bg-color: #434B5C;\n",
              "      --hover-fill-color: #FFFFFF;\n",
              "      --disabled-bg-color: #3B4455;\n",
              "      --disabled-fill-color: #666;\n",
              "  }\n",
              "\n",
              "  .colab-df-quickchart {\n",
              "    background-color: var(--bg-color);\n",
              "    border: none;\n",
              "    border-radius: 50%;\n",
              "    cursor: pointer;\n",
              "    display: none;\n",
              "    fill: var(--fill-color);\n",
              "    height: 32px;\n",
              "    padding: 0;\n",
              "    width: 32px;\n",
              "  }\n",
              "\n",
              "  .colab-df-quickchart:hover {\n",
              "    background-color: var(--hover-bg-color);\n",
              "    box-shadow: 0 1px 2px rgba(60, 64, 67, 0.3), 0 1px 3px 1px rgba(60, 64, 67, 0.15);\n",
              "    fill: var(--button-hover-fill-color);\n",
              "  }\n",
              "\n",
              "  .colab-df-quickchart-complete:disabled,\n",
              "  .colab-df-quickchart-complete:disabled:hover {\n",
              "    background-color: var(--disabled-bg-color);\n",
              "    fill: var(--disabled-fill-color);\n",
              "    box-shadow: none;\n",
              "  }\n",
              "\n",
              "  .colab-df-spinner {\n",
              "    border: 2px solid var(--fill-color);\n",
              "    border-color: transparent;\n",
              "    border-bottom-color: var(--fill-color);\n",
              "    animation:\n",
              "      spin 1s steps(1) infinite;\n",
              "  }\n",
              "\n",
              "  @keyframes spin {\n",
              "    0% {\n",
              "      border-color: transparent;\n",
              "      border-bottom-color: var(--fill-color);\n",
              "      border-left-color: var(--fill-color);\n",
              "    }\n",
              "    20% {\n",
              "      border-color: transparent;\n",
              "      border-left-color: var(--fill-color);\n",
              "      border-top-color: var(--fill-color);\n",
              "    }\n",
              "    30% {\n",
              "      border-color: transparent;\n",
              "      border-left-color: var(--fill-color);\n",
              "      border-top-color: var(--fill-color);\n",
              "      border-right-color: var(--fill-color);\n",
              "    }\n",
              "    40% {\n",
              "      border-color: transparent;\n",
              "      border-right-color: var(--fill-color);\n",
              "      border-top-color: var(--fill-color);\n",
              "    }\n",
              "    60% {\n",
              "      border-color: transparent;\n",
              "      border-right-color: var(--fill-color);\n",
              "    }\n",
              "    80% {\n",
              "      border-color: transparent;\n",
              "      border-right-color: var(--fill-color);\n",
              "      border-bottom-color: var(--fill-color);\n",
              "    }\n",
              "    90% {\n",
              "      border-color: transparent;\n",
              "      border-bottom-color: var(--fill-color);\n",
              "    }\n",
              "  }\n",
              "</style>\n",
              "\n",
              "  <script>\n",
              "    async function quickchart(key) {\n",
              "      const quickchartButtonEl =\n",
              "        document.querySelector('#' + key + ' button');\n",
              "      quickchartButtonEl.disabled = true;  // To prevent multiple clicks.\n",
              "      quickchartButtonEl.classList.add('colab-df-spinner');\n",
              "      try {\n",
              "        const charts = await google.colab.kernel.invokeFunction(\n",
              "            'suggestCharts', [key], {});\n",
              "      } catch (error) {\n",
              "        console.error('Error during call to suggestCharts:', error);\n",
              "      }\n",
              "      quickchartButtonEl.classList.remove('colab-df-spinner');\n",
              "      quickchartButtonEl.classList.add('colab-df-quickchart-complete');\n",
              "    }\n",
              "    (() => {\n",
              "      let quickchartButtonEl =\n",
              "        document.querySelector('#df-f7be9bf0-ca35-4e7b-9515-d0215d1d9b0a button');\n",
              "      quickchartButtonEl.style.display =\n",
              "        google.colab.kernel.accessAllowed ? 'block' : 'none';\n",
              "    })();\n",
              "  </script>\n",
              "</div>\n",
              "\n",
              "  <div id=\"id_53efcb20-99f8-4675-9964-ccf6cdfd202a\">\n",
              "    <style>\n",
              "      .colab-df-generate {\n",
              "        background-color: #E8F0FE;\n",
              "        border: none;\n",
              "        border-radius: 50%;\n",
              "        cursor: pointer;\n",
              "        display: none;\n",
              "        fill: #1967D2;\n",
              "        height: 32px;\n",
              "        padding: 0 0 0 0;\n",
              "        width: 32px;\n",
              "      }\n",
              "\n",
              "      .colab-df-generate:hover {\n",
              "        background-color: #E2EBFA;\n",
              "        box-shadow: 0px 1px 2px rgba(60, 64, 67, 0.3), 0px 1px 3px 1px rgba(60, 64, 67, 0.15);\n",
              "        fill: #174EA6;\n",
              "      }\n",
              "\n",
              "      [theme=dark] .colab-df-generate {\n",
              "        background-color: #3B4455;\n",
              "        fill: #D2E3FC;\n",
              "      }\n",
              "\n",
              "      [theme=dark] .colab-df-generate:hover {\n",
              "        background-color: #434B5C;\n",
              "        box-shadow: 0px 1px 3px 1px rgba(0, 0, 0, 0.15);\n",
              "        filter: drop-shadow(0px 1px 2px rgba(0, 0, 0, 0.3));\n",
              "        fill: #FFFFFF;\n",
              "      }\n",
              "    </style>\n",
              "    <button class=\"colab-df-generate\" onclick=\"generateWithVariable('results_df1')\"\n",
              "            title=\"Generate code using this dataframe.\"\n",
              "            style=\"display:none;\">\n",
              "\n",
              "  <svg xmlns=\"http://www.w3.org/2000/svg\" height=\"24px\"viewBox=\"0 0 24 24\"\n",
              "       width=\"24px\">\n",
              "    <path d=\"M7,19H8.4L18.45,9,17,7.55,7,17.6ZM5,21V16.75L18.45,3.32a2,2,0,0,1,2.83,0l1.4,1.43a1.91,1.91,0,0,1,.58,1.4,1.91,1.91,0,0,1-.58,1.4L9.25,21ZM18.45,9,17,7.55Zm-12,3A5.31,5.31,0,0,0,4.9,8.1,5.31,5.31,0,0,0,1,6.5,5.31,5.31,0,0,0,4.9,4.9,5.31,5.31,0,0,0,6.5,1,5.31,5.31,0,0,0,8.1,4.9,5.31,5.31,0,0,0,12,6.5,5.46,5.46,0,0,0,6.5,12Z\"/>\n",
              "  </svg>\n",
              "    </button>\n",
              "    <script>\n",
              "      (() => {\n",
              "      const buttonEl =\n",
              "        document.querySelector('#id_53efcb20-99f8-4675-9964-ccf6cdfd202a button.colab-df-generate');\n",
              "      buttonEl.style.display =\n",
              "        google.colab.kernel.accessAllowed ? 'block' : 'none';\n",
              "\n",
              "      buttonEl.onclick = () => {\n",
              "        google.colab.notebook.generateWithVariable('results_df1');\n",
              "      }\n",
              "      })();\n",
              "    </script>\n",
              "  </div>\n",
              "\n",
              "    </div>\n",
              "  </div>\n"
            ],
            "application/vnd.google.colaboratory.intrinsic+json": {
              "type": "dataframe",
              "variable_name": "results_df1",
              "summary": "{\n  \"name\": \"results_df1\",\n  \"rows\": 4,\n  \"fields\": [\n    {\n      \"column\": \"Recall\",\n      \"properties\": {\n        \"dtype\": \"number\",\n        \"std\": 0.06745486095437812,\n        \"min\": 0.6351351351351351,\n        \"max\": 0.7837837837837838,\n        \"num_unique_values\": 4,\n        \"samples\": [\n          0.7702702702702703,\n          0.7432432432432432,\n          0.6351351351351351\n        ],\n        \"semantic_type\": \"\",\n        \"description\": \"\"\n      }\n    },\n    {\n      \"column\": \"Precision\",\n      \"properties\": {\n        \"dtype\": \"number\",\n        \"std\": 0.030416148107871653,\n        \"min\": 0.8333333333333334,\n        \"max\": 0.8992248062015504,\n        \"num_unique_values\": 4,\n        \"samples\": [\n          0.8837209302325582,\n          0.8333333333333334,\n          0.8952380952380953\n        ],\n        \"semantic_type\": \"\",\n        \"description\": \"\"\n      }\n    },\n    {\n      \"column\": \"f1-score\",\n      \"properties\": {\n        \"dtype\": \"number\",\n        \"std\": 0.042266016898946296,\n        \"min\": 0.7430830039525692,\n        \"max\": 0.8375451263537906,\n        \"num_unique_values\": 4,\n        \"samples\": [\n          0.8231046931407943,\n          0.7857142857142857,\n          0.7430830039525692\n        ],\n        \"semantic_type\": \"\",\n        \"description\": \"\"\n      }\n    },\n    {\n      \"column\": \"Average Precision\",\n      \"properties\": {\n        \"dtype\": \"number\",\n        \"std\": 0.06135721387766498,\n        \"min\": 0.5692291688780576,\n        \"max\": 0.7051723397618621,\n        \"num_unique_values\": 4,\n        \"samples\": [\n          0.6811018858765092,\n          0.6198141103077728,\n          0.5692291688780576\n        ],\n        \"semantic_type\": \"\",\n        \"description\": \"\"\n      }\n    }\n  ]\n}"
            }
          },
          "metadata": {},
          "execution_count": 21
        }
      ],
      "source": [
        "lr01 = LogisticRegression()\n",
        "knn01 = KNeighborsClassifier(n_neighbors = 6)\n",
        "rf01 = RandomForestClassifier(max_depth = 10, random_state = 23, n_jobs=-1)\n",
        "dt01 = DecisionTreeClassifier(random_state = 23, max_depth = 10)\n",
        "\n",
        "lr01.fit(X_train_strat, y_train_strat['Class'])\n",
        "knn01.fit(X_train_strat, y_train_strat['Class'])\n",
        "rf01.fit(X_train_strat, y_train_strat['Class'])\n",
        "dt01.fit(X_train_strat, y_train_strat['Class'])\n",
        "\n",
        "y_hat_lr01 = lr01.predict(X_test_strat)\n",
        "y_hat_knn01 = knn01.predict(X_test_strat)\n",
        "y_hat_rf01 = rf01.predict(X_test_strat)\n",
        "y_hat_dt01 = dt01.predict(X_test_strat)\n",
        "\n",
        "r_lr01, p_lr01, f1_lr01, ap_lr01 = recall_score(y_test_strat, y_hat_lr01 ), precision_score(y_test_strat, y_hat_lr01), f1_score(y_test_strat, y_hat_lr01), average_precision_score(y_test_strat, y_hat_lr01)\n",
        "r_knn01, p_knn01, f1_knn01, ap_knn01 = recall_score(y_test_strat, y_hat_knn01), precision_score(y_test_strat, y_hat_knn01), f1_score(y_test_strat, y_hat_knn01), average_precision_score(y_test_strat, y_hat_knn01)\n",
        "r_rf01, p_rf01, f1_rf01, ap_rf01  = recall_score(y_test_strat, y_hat_rf01), precision_score(y_test_strat, y_hat_rf01), f1_score(y_test_strat, y_hat_rf01), average_precision_score(y_test_strat, y_hat_rf01)\n",
        "r_dt01, p_dt01, f1_dt01, ap_dt01  = recall_score(y_test_strat, y_hat_dt01), precision_score(y_test_strat, y_hat_dt01), f1_score(y_test_strat, y_hat_dt01), average_precision_score(y_test_strat, y_hat_dt01)\n",
        "\n",
        "data = {'Recall': [r_lr01, r_knn01, r_rf01, r_dt01],\n",
        "        'Precision': [p_lr01, p_knn01, p_rf01, p_dt01],\n",
        "        'f1-score': [f1_lr01, f1_knn01, f1_rf01, f1_dt01],\n",
        "        'Average Precision': [ap_lr01, ap_knn01, ap_rf01, ap_dt01]}\n",
        "\n",
        "results_df1 = pd.DataFrame(data = data, index = ['Logistic Regression', 'KNN', 'Random Forest', 'Decision Tree'])\n",
        "results_df1"
      ]
    },
    {
      "cell_type": "code",
      "execution_count": null,
      "id": "c136c609-9c36-432e-ac16-501bd239ec0b",
      "metadata": {
        "colab": {
          "base_uri": "https://localhost:8080/",
          "height": 480
        },
        "id": "c136c609-9c36-432e-ac16-501bd239ec0b",
        "outputId": "da7c0d4e-84ea-42b9-8ade-dea307d7bb8b"
      },
      "outputs": [
        {
          "output_type": "display_data",
          "data": {
            "text/plain": [
              "<Figure size 640x480 with 1 Axes>"
            ],
            "image/png": "[encoded data removed]"
          },
          "metadata": {}
        }
      ],
      "source": [
        "display = PrecisionRecallDisplay.from_predictions(y_test_strat, y_hat_lr01, ax = plt.gca(), name='Logistic Regression')\n",
        "display = PrecisionRecallDisplay.from_predictions(y_test_strat, y_hat_knn01,  ax = plt.gca(),name='KNN Classifier')\n",
        "display = PrecisionRecallDisplay.from_predictions(y_test_strat, y_hat_rf01,  ax = plt.gca(),name='Random Forest Classifier')\n",
        "display = PrecisionRecallDisplay.from_predictions(y_test_strat, y_hat_dt01,  ax = plt.gca(),name='Decision Tree Classifier')\n",
        "\n",
        "_ = display.ax_.set_title('Precision-Recall curve - Stratified Random Sampling')"
      ]
    },
    {
      "cell_type": "markdown",
      "id": "3d4b5990-15b3-40cc-8987-371937f29a44",
      "metadata": {
        "id": "3d4b5990-15b3-40cc-8987-371937f29a44"
      },
      "source": [
        "#### 2. AUPRC for over sampling (default)"
      ]
    },
    {
      "cell_type": "code",
      "execution_count": null,
      "id": "45ffd353-336f-4ff4-b27e-d565acc58876",
      "metadata": {
        "id": "45ffd353-336f-4ff4-b27e-d565acc58876",
        "colab": {
          "base_uri": "https://localhost:8080/",
          "height": 175
        },
        "outputId": "adc9d647-60fe-472a-a620-d0211cc1d892"
      },
      "outputs": [
        {
          "output_type": "execute_result",
          "data": {
            "text/plain": [
              "                       Recall  Precision  f1-score\n",
              "Logistic Regression  0.943089   0.020988  0.041062\n",
              "KNN                  0.878049   0.085885  0.156465\n",
              "Random Forest        0.947154   0.034179  0.065978\n",
              "Decision Tree        0.947154   0.008403  0.016659"
            ],
            "text/html": [
              "\n",
              "  <div id=\"df-e71779af-77cd-4e12-8e5b-daa25ce5d239\" class=\"colab-df-container\">\n",
              "    <div>\n",
              "<style scoped>\n",
              "    .dataframe tbody tr th:only-of-type {\n",
              "        vertical-align: middle;\n",
              "    }\n",
              "\n",
              "    .dataframe tbody tr th {\n",
              "        vertical-align: top;\n",
              "    }\n",
              "\n",
              "    .dataframe thead th {\n",
              "        text-align: right;\n",
              "    }\n",
              "</style>\n",
              "<table border=\"1\" class=\"dataframe\">\n",
              "  <thead>\n",
              "    <tr style=\"text-align: right;\">\n",
              "      <th></th>\n",
              "      <th>Recall</th>\n",
              "      <th>Precision</th>\n",
              "      <th>f1-score</th>\n",
              "    </tr>\n",
              "  </thead>\n",
              "  <tbody>\n",
              "    <tr>\n",
              "      <th>Logistic Regression</th>\n",
              "      <td>0.943089</td>\n",
              "      <td>0.020988</td>\n",
              "      <td>0.041062</td>\n",
              "    </tr>\n",
              "    <tr>\n",
              "      <th>KNN</th>\n",
              "      <td>0.878049</td>\n",
              "      <td>0.085885</td>\n",
              "      <td>0.156465</td>\n",
              "    </tr>\n",
              "    <tr>\n",
              "      <th>Random Forest</th>\n",
              "      <td>0.947154</td>\n",
              "      <td>0.034179</td>\n",
              "      <td>0.065978</td>\n",
              "    </tr>\n",
              "    <tr>\n",
              "      <th>Decision Tree</th>\n",
              "      <td>0.947154</td>\n",
              "      <td>0.008403</td>\n",
              "      <td>0.016659</td>\n",
              "    </tr>\n",
              "  </tbody>\n",
              "</table>\n",
              "</div>\n",
              "    <div class=\"colab-df-buttons\">\n",
              "\n",
              "  <div class=\"colab-df-container\">\n",
              "    <button class=\"colab-df-convert\" onclick=\"convertToInteractive('df-e71779af-77cd-4e12-8e5b-daa25ce5d239')\"\n",
              "            title=\"Convert this dataframe to an interactive table.\"\n",
              "            style=\"display:none;\">\n",
              "\n",
              "  <svg xmlns=\"http://www.w3.org/2000/svg\" height=\"24px\" viewBox=\"0 -960 960 960\">\n",
              "    <path d=\"M120-120v-720h720v720H120Zm60-500h600v-160H180v160Zm220 220h160v-160H400v160Zm0 220h160v-160H400v160ZM180-400h160v-160H180v160Zm440 0h160v-160H620v160ZM180-180h160v-160H180v160Zm440 0h160v-160H620v160Z\"/>\n",
              "  </svg>\n",
              "    </button>\n",
              "\n",
              "  <style>\n",
              "    .colab-df-container {\n",
              "      display:flex;\n",
              "      gap: 12px;\n",
              "    }\n",
              "\n",
              "    .colab-df-convert {\n",
              "      background-color: #E8F0FE;\n",
              "      border: none;\n",
              "      border-radius: 50%;\n",
              "      cursor: pointer;\n",
              "      display: none;\n",
              "      fill: #1967D2;\n",
              "      height: 32px;\n",
              "      padding: 0 0 0 0;\n",
              "      width: 32px;\n",
              "    }\n",
              "\n",
              "    .colab-df-convert:hover {\n",
              "      background-color: #E2EBFA;\n",
              "      box-shadow: 0px 1px 2px rgba(60, 64, 67, 0.3), 0px 1px 3px 1px rgba(60, 64, 67, 0.15);\n",
              "      fill: #174EA6;\n",
              "    }\n",
              "\n",
              "    .colab-df-buttons div {\n",
              "      margin-bottom: 4px;\n",
              "    }\n",
              "\n",
              "    [theme=dark] .colab-df-convert {\n",
              "      background-color: #3B4455;\n",
              "      fill: #D2E3FC;\n",
              "    }\n",
              "\n",
              "    [theme=dark] .colab-df-convert:hover {\n",
              "      background-color: #434B5C;\n",
              "      box-shadow: 0px 1px 3px 1px rgba(0, 0, 0, 0.15);\n",
              "      filter: drop-shadow(0px 1px 2px rgba(0, 0, 0, 0.3));\n",
              "      fill: #FFFFFF;\n",
              "    }\n",
              "  </style>\n",
              "\n",
              "    <script>\n",
              "      const buttonEl =\n",
              "        document.querySelector('#df-e71779af-77cd-4e12-8e5b-daa25ce5d239 button.colab-df-convert');\n",
              "      buttonEl.style.display =\n",
              "        google.colab.kernel.accessAllowed ? 'block' : 'none';\n",
              "\n",
              "      async function convertToInteractive(key) {\n",
              "        const element = document.querySelector('#df-e71779af-77cd-4e12-8e5b-daa25ce5d239');\n",
              "        const dataTable =\n",
              "          await google.colab.kernel.invokeFunction('convertToInteractive',\n",
              "                                                    [key], {});\n",
              "        if (!dataTable) return;\n",
              "\n",
              "        const docLinkHtml = 'Like what you see? Visit the ' +\n",
              "          '<a target=\"_blank\" href=https://colab.research.google.com/notebooks/data_table.ipynb>data table notebook</a>'\n",
              "          + ' to learn more about interactive tables.';\n",
              "        element.innerHTML = '';\n",
              "        dataTable['output_type'] = 'display_data';\n",
              "        await google.colab.output.renderOutput(dataTable, element);\n",
              "        const docLink = document.createElement('div');\n",
              "        docLink.innerHTML = docLinkHtml;\n",
              "        element.appendChild(docLink);\n",
              "      }\n",
              "    </script>\n",
              "  </div>\n",
              "\n",
              "\n",
              "<div id=\"df-1c136850-fd02-4b76-bb85-2a54cdbbe8b5\">\n",
              "  <button class=\"colab-df-quickchart\" onclick=\"quickchart('df-1c136850-fd02-4b76-bb85-2a54cdbbe8b5')\"\n",
              "            title=\"Suggest charts\"\n",
              "            style=\"display:none;\">\n",
              "\n",
              "<svg xmlns=\"http://www.w3.org/2000/svg\" height=\"24px\"viewBox=\"0 0 24 24\"\n",
              "     width=\"24px\">\n",
              "    <g>\n",
              "        <path d=\"M19 3H5c-1.1 0-2 .9-2 2v14c0 1.1.9 2 2 2h14c1.1 0 2-.9 2-2V5c0-1.1-.9-2-2-2zM9 17H7v-7h2v7zm4 0h-2V7h2v10zm4 0h-2v-4h2v4z\"/>\n",
              "    </g>\n",
              "</svg>\n",
              "  </button>\n",
              "\n",
              "<style>\n",
              "  .colab-df-quickchart {\n",
              "      --bg-color: #E8F0FE;\n",
              "      --fill-color: #1967D2;\n",
              "      --hover-bg-color: #E2EBFA;\n",
              "      --hover-fill-color: #174EA6;\n",
              "      --disabled-fill-color: #AAA;\n",
              "      --disabled-bg-color: #DDD;\n",
              "  }\n",
              "\n",
              "  [theme=dark] .colab-df-quickchart {\n",
              "      --bg-color: #3B4455;\n",
              "      --fill-color: #D2E3FC;\n",
              "      --hover-bg-color: #434B5C;\n",
              "      --hover-fill-color: #FFFFFF;\n",
              "      --disabled-bg-color: #3B4455;\n",
              "      --disabled-fill-color: #666;\n",
              "  }\n",
              "\n",
              "  .colab-df-quickchart {\n",
              "    background-color: var(--bg-color);\n",
              "    border: none;\n",
              "    border-radius: 50%;\n",
              "    cursor: pointer;\n",
              "    display: none;\n",
              "    fill: var(--fill-color);\n",
              "    height: 32px;\n",
              "    padding: 0;\n",
              "    width: 32px;\n",
              "  }\n",
              "\n",
              "  .colab-df-quickchart:hover {\n",
              "    background-color: var(--hover-bg-color);\n",
              "    box-shadow: 0 1px 2px rgba(60, 64, 67, 0.3), 0 1px 3px 1px rgba(60, 64, 67, 0.15);\n",
              "    fill: var(--button-hover-fill-color);\n",
              "  }\n",
              "\n",
              "  .colab-df-quickchart-complete:disabled,\n",
              "  .colab-df-quickchart-complete:disabled:hover {\n",
              "    background-color: var(--disabled-bg-color);\n",
              "    fill: var(--disabled-fill-color);\n",
              "    box-shadow: none;\n",
              "  }\n",
              "\n",
              "  .colab-df-spinner {\n",
              "    border: 2px solid var(--fill-color);\n",
              "    border-color: transparent;\n",
              "    border-bottom-color: var(--fill-color);\n",
              "    animation:\n",
              "      spin 1s steps(1) infinite;\n",
              "  }\n",
              "\n",
              "  @keyframes spin {\n",
              "    0% {\n",
              "      border-color: transparent;\n",
              "      border-bottom-color: var(--fill-color);\n",
              "      border-left-color: var(--fill-color);\n",
              "    }\n",
              "    20% {\n",
              "      border-color: transparent;\n",
              "      border-left-color: var(--fill-color);\n",
              "      border-top-color: var(--fill-color);\n",
              "    }\n",
              "    30% {\n",
              "      border-color: transparent;\n",
              "      border-left-color: var(--fill-color);\n",
              "      border-top-color: var(--fill-color);\n",
              "      border-right-color: var(--fill-color);\n",
              "    }\n",
              "    40% {\n",
              "      border-color: transparent;\n",
              "      border-right-color: var(--fill-color);\n",
              "      border-top-color: var(--fill-color);\n",
              "    }\n",
              "    60% {\n",
              "      border-color: transparent;\n",
              "      border-right-color: var(--fill-color);\n",
              "    }\n",
              "    80% {\n",
              "      border-color: transparent;\n",
              "      border-right-color: var(--fill-color);\n",
              "      border-bottom-color: var(--fill-color);\n",
              "    }\n",
              "    90% {\n",
              "      border-color: transparent;\n",
              "      border-bottom-color: var(--fill-color);\n",
              "    }\n",
              "  }\n",
              "</style>\n",
              "\n",
              "  <script>\n",
              "    async function quickchart(key) {\n",
              "      const quickchartButtonEl =\n",
              "        document.querySelector('#' + key + ' button');\n",
              "      quickchartButtonEl.disabled = true;  // To prevent multiple clicks.\n",
              "      quickchartButtonEl.classList.add('colab-df-spinner');\n",
              "      try {\n",
              "        const charts = await google.colab.kernel.invokeFunction(\n",
              "            'suggestCharts', [key], {});\n",
              "      } catch (error) {\n",
              "        console.error('Error during call to suggestCharts:', error);\n",
              "      }\n",
              "      quickchartButtonEl.classList.remove('colab-df-spinner');\n",
              "      quickchartButtonEl.classList.add('colab-df-quickchart-complete');\n",
              "    }\n",
              "    (() => {\n",
              "      let quickchartButtonEl =\n",
              "        document.querySelector('#df-1c136850-fd02-4b76-bb85-2a54cdbbe8b5 button');\n",
              "      quickchartButtonEl.style.display =\n",
              "        google.colab.kernel.accessAllowed ? 'block' : 'none';\n",
              "    })();\n",
              "  </script>\n",
              "</div>\n",
              "\n",
              "  <div id=\"id_51c16b7d-a64c-48c9-9697-64447cd1c7fe\">\n",
              "    <style>\n",
              "      .colab-df-generate {\n",
              "        background-color: #E8F0FE;\n",
              "        border: none;\n",
              "        border-radius: 50%;\n",
              "        cursor: pointer;\n",
              "        display: none;\n",
              "        fill: #1967D2;\n",
              "        height: 32px;\n",
              "        padding: 0 0 0 0;\n",
              "        width: 32px;\n",
              "      }\n",
              "\n",
              "      .colab-df-generate:hover {\n",
              "        background-color: #E2EBFA;\n",
              "        box-shadow: 0px 1px 2px rgba(60, 64, 67, 0.3), 0px 1px 3px 1px rgba(60, 64, 67, 0.15);\n",
              "        fill: #174EA6;\n",
              "      }\n",
              "\n",
              "      [theme=dark] .colab-df-generate {\n",
              "        background-color: #3B4455;\n",
              "        fill: #D2E3FC;\n",
              "      }\n",
              "\n",
              "      [theme=dark] .colab-df-generate:hover {\n",
              "        background-color: #434B5C;\n",
              "        box-shadow: 0px 1px 3px 1px rgba(0, 0, 0, 0.15);\n",
              "        filter: drop-shadow(0px 1px 2px rgba(0, 0, 0, 0.3));\n",
              "        fill: #FFFFFF;\n",
              "      }\n",
              "    </style>\n",
              "    <button class=\"colab-df-generate\" onclick=\"generateWithVariable('results_df2')\"\n",
              "            title=\"Generate code using this dataframe.\"\n",
              "            style=\"display:none;\">\n",
              "\n",
              "  <svg xmlns=\"http://www.w3.org/2000/svg\" height=\"24px\"viewBox=\"0 0 24 24\"\n",
              "       width=\"24px\">\n",
              "    <path d=\"M7,19H8.4L18.45,9,17,7.55,7,17.6ZM5,21V16.75L18.45,3.32a2,2,0,0,1,2.83,0l1.4,1.43a1.91,1.91,0,0,1,.58,1.4,1.91,1.91,0,0,1-.58,1.4L9.25,21ZM18.45,9,17,7.55Zm-12,3A5.31,5.31,0,0,0,4.9,8.1,5.31,5.31,0,0,0,1,6.5,5.31,5.31,0,0,0,4.9,4.9,5.31,5.31,0,0,0,6.5,1,5.31,5.31,0,0,0,8.1,4.9,5.31,5.31,0,0,0,12,6.5,5.46,5.46,0,0,0,6.5,12Z\"/>\n",
              "  </svg>\n",
              "    </button>\n",
              "    <script>\n",
              "      (() => {\n",
              "      const buttonEl =\n",
              "        document.querySelector('#id_51c16b7d-a64c-48c9-9697-64447cd1c7fe button.colab-df-generate');\n",
              "      buttonEl.style.display =\n",
              "        google.colab.kernel.accessAllowed ? 'block' : 'none';\n",
              "\n",
              "      buttonEl.onclick = () => {\n",
              "        google.colab.notebook.generateWithVariable('results_df2');\n",
              "      }\n",
              "      })();\n",
              "    </script>\n",
              "  </div>\n",
              "\n",
              "    </div>\n",
              "  </div>\n"
            ],
            "application/vnd.google.colaboratory.intrinsic+json": {
              "type": "dataframe",
              "variable_name": "results_df2",
              "summary": "{\n  \"name\": \"results_df2\",\n  \"rows\": 4,\n  \"fields\": [\n    {\n      \"column\": \"Recall\",\n      \"properties\": {\n        \"dtype\": \"number\",\n        \"std\": 0.033929496004197604,\n        \"min\": 0.8780487804878049,\n        \"max\": 0.9471544715447154,\n        \"num_unique_values\": 3,\n        \"samples\": [\n          0.943089430894309,\n          0.8780487804878049,\n          0.9471544715447154\n        ],\n        \"semantic_type\": \"\",\n        \"description\": \"\"\n      }\n    },\n    {\n      \"column\": \"Precision\",\n      \"properties\": {\n        \"dtype\": \"number\",\n        \"std\": 0.03401615348530724,\n        \"min\": 0.008403361344537815,\n        \"max\": 0.08588469184890656,\n        \"num_unique_values\": 4,\n        \"samples\": [\n          0.08588469184890656,\n          0.008403361344537815,\n          0.020987877691333454\n        ],\n        \"semantic_type\": \"\",\n        \"description\": \"\"\n      }\n    },\n    {\n      \"column\": \"f1-score\",\n      \"properties\": {\n        \"dtype\": \"number\",\n        \"std\": 0.061032939384674426,\n        \"min\": 0.01665892110249169,\n        \"max\": 0.15646504889532778,\n        \"num_unique_values\": 4,\n        \"samples\": [\n          0.15646504889532778,\n          0.01665892110249169,\n          0.04106194690265487\n        ],\n        \"semantic_type\": \"\",\n        \"description\": \"\"\n      }\n    }\n  ]\n}"
            }
          },
          "metadata": {},
          "execution_count": 23
        }
      ],
      "source": [
        "lr02 = LogisticRegression()\n",
        "knn02 = KNeighborsClassifier(n_neighbors = 14)\n",
        "rf02 = RandomForestClassifier(max_depth = 10, random_state = 23, n_jobs=-1)\n",
        "dt02 = DecisionTreeClassifier(random_state = 23, max_depth=10)\n",
        "\n",
        "lr02.fit(X_train_os, y_train_os['Class'])\n",
        "knn02.fit(X_train_os, y_train_os['Class'])\n",
        "rf02.fit(X_train_os, y_train_os['Class'])\n",
        "dt02.fit(X_train_os, y_train_os['Class'])\n",
        "\n",
        "y_hat_lr02 = lr02.predict(X_test_os)\n",
        "y_hat_knn02 = knn02.predict(X_test_os)\n",
        "y_hat_rf02 = rf02.predict(X_test_os)\n",
        "y_hat_dt02 = dt02.predict(X_test_os)\n",
        "\n",
        "r_lr02, p_lr02, f1_lr02 = recall_score(y_test_os, y_hat_lr02 ), precision_score(y_test_os, y_hat_lr02), f1_score(y_test_os, y_hat_lr02)\n",
        "r_knn02, p_knn02, f1_knn02 = recall_score(y_test_os, y_hat_knn02), precision_score(y_test_os, y_hat_knn02), f1_score(y_test_os, y_hat_knn02)\n",
        "r_rf02, p_rf02, f1_rf02  = recall_score(y_test_os, y_hat_rf02), precision_score(y_test_os, y_hat_rf02), f1_score(y_test_os, y_hat_rf02)\n",
        "r_dt02, p_dt02, f1_dt02  = recall_score(y_test_os, y_hat_dt02), precision_score(y_test_os, y_hat_dt02), f1_score(y_test_os, y_hat_dt02)\n",
        "\n",
        "data = {'Recall': [r_lr02, r_knn02, r_rf02, r_dt02],\n",
        "        'Precision': [p_lr02, p_knn02, p_rf02, p_dt02],\n",
        "        'f1-score': [f1_lr02, f1_knn02, f1_rf02, f1_dt02]}\n",
        "\n",
        "results_df2 = pd.DataFrame(data = data, index = ['Logistic Regression', 'KNN', 'Random Forest', 'Decision Tree'])\n",
        "results_df2"
      ]
    },
    {
      "cell_type": "code",
      "execution_count": null,
      "id": "04e999b2-b9b9-458a-971c-c6dbcd29289b",
      "metadata": {
        "colab": {
          "base_uri": "https://localhost:8080/",
          "height": 480
        },
        "id": "04e999b2-b9b9-458a-971c-c6dbcd29289b",
        "outputId": "68067056-42c3-46a8-a3b9-d486c36feaaf"
      },
      "outputs": [
        {
          "output_type": "display_data",
          "data": {
            "text/plain": [
              "<Figure size 640x480 with 1 Axes>"
            ],
            "image/png": "[encoded data removed]"
          },
          "metadata": {}
        }
      ],
      "source": [
        "display = PrecisionRecallDisplay.from_estimator(lr02, X_test_os, y_test_os, ax = plt.gca(), name='Logistic Regression')\n",
        "display = PrecisionRecallDisplay.from_estimator(knn02, X_test_os,  y_test_os,ax = plt.gca(),name='KNN Classifier')\n",
        "display = PrecisionRecallDisplay.from_estimator(rf02, X_test_os,  y_test_os,ax = plt.gca(),name='Random Forest Classifier')\n",
        "display = PrecisionRecallDisplay.from_estimator(dt02, X_test_os,  y_test_os,ax = plt.gca(),name='Decision Tree Classifier')\n",
        "\n",
        "_ = display.ax_.set_title('Precision-Recall curve - Stratified Random Sampling')"
      ]
    },
    {
      "cell_type": "markdown",
      "id": "370f8123-7ac1-4c22-9fde-aca4b9e87ebc",
      "metadata": {
        "id": "370f8123-7ac1-4c22-9fde-aca4b9e87ebc"
      },
      "source": [
        "#### 3. ROC curve for oversampling(SMOTE)"
      ]
    },
    {
      "cell_type": "code",
      "execution_count": null,
      "id": "5cf4721b-3822-4738-aed3-8a5662530202",
      "metadata": {
        "id": "5cf4721b-3822-4738-aed3-8a5662530202",
        "colab": {
          "base_uri": "https://localhost:8080/",
          "height": 175
        },
        "outputId": "a03b8e9c-3595-4dca-b54b-a194b2048875"
      },
      "outputs": [
        {
          "output_type": "execute_result",
          "data": {
            "text/plain": [
              "                       Recall  Precision  f1-score\n",
              "Logistic Regression  0.871622   0.057410  0.107724\n",
              "KNN                  0.824324   0.270510  0.407346\n",
              "Random Forest        0.804054   0.700000  0.748428\n",
              "Decision Tree        0.797297   0.158177  0.263982"
            ],
            "text/html": [
              "\n",
              "  <div id=\"df-fb4a73f3-6ac9-48d0-8fa1-cb7b2071b427\" class=\"colab-df-container\">\n",
              "    <div>\n",
              "<style scoped>\n",
              "    .dataframe tbody tr th:only-of-type {\n",
              "        vertical-align: middle;\n",
              "    }\n",
              "\n",
              "    .dataframe tbody tr th {\n",
              "        vertical-align: top;\n",
              "    }\n",
              "\n",
              "    .dataframe thead th {\n",
              "        text-align: right;\n",
              "    }\n",
              "</style>\n",
              "<table border=\"1\" class=\"dataframe\">\n",
              "  <thead>\n",
              "    <tr style=\"text-align: right;\">\n",
              "      <th></th>\n",
              "      <th>Recall</th>\n",
              "      <th>Precision</th>\n",
              "      <th>f1-score</th>\n",
              "    </tr>\n",
              "  </thead>\n",
              "  <tbody>\n",
              "    <tr>\n",
              "      <th>Logistic Regression</th>\n",
              "      <td>0.871622</td>\n",
              "      <td>0.057410</td>\n",
              "      <td>0.107724</td>\n",
              "    </tr>\n",
              "    <tr>\n",
              "      <th>KNN</th>\n",
              "      <td>0.824324</td>\n",
              "      <td>0.270510</td>\n",
              "      <td>0.407346</td>\n",
              "    </tr>\n",
              "    <tr>\n",
              "      <th>Random Forest</th>\n",
              "      <td>0.804054</td>\n",
              "      <td>0.700000</td>\n",
              "      <td>0.748428</td>\n",
              "    </tr>\n",
              "    <tr>\n",
              "      <th>Decision Tree</th>\n",
              "      <td>0.797297</td>\n",
              "      <td>0.158177</td>\n",
              "      <td>0.263982</td>\n",
              "    </tr>\n",
              "  </tbody>\n",
              "</table>\n",
              "</div>\n",
              "    <div class=\"colab-df-buttons\">\n",
              "\n",
              "  <div class=\"colab-df-container\">\n",
              "    <button class=\"colab-df-convert\" onclick=\"convertToInteractive('df-fb4a73f3-6ac9-48d0-8fa1-cb7b2071b427')\"\n",
              "            title=\"Convert this dataframe to an interactive table.\"\n",
              "            style=\"display:none;\">\n",
              "\n",
              "  <svg xmlns=\"http://www.w3.org/2000/svg\" height=\"24px\" viewBox=\"0 -960 960 960\">\n",
              "    <path d=\"M120-120v-720h720v720H120Zm60-500h600v-160H180v160Zm220 220h160v-160H400v160Zm0 220h160v-160H400v160ZM180-400h160v-160H180v160Zm440 0h160v-160H620v160ZM180-180h160v-160H180v160Zm440 0h160v-160H620v160Z\"/>\n",
              "  </svg>\n",
              "    </button>\n",
              "\n",
              "  <style>\n",
              "    .colab-df-container {\n",
              "      display:flex;\n",
              "      gap: 12px;\n",
              "    }\n",
              "\n",
              "    .colab-df-convert {\n",
              "      background-color: #E8F0FE;\n",
              "      border: none;\n",
              "      border-radius: 50%;\n",
              "      cursor: pointer;\n",
              "      display: none;\n",
              "      fill: #1967D2;\n",
              "      height: 32px;\n",
              "      padding: 0 0 0 0;\n",
              "      width: 32px;\n",
              "    }\n",
              "\n",
              "    .colab-df-convert:hover {\n",
              "      background-color: #E2EBFA;\n",
              "      box-shadow: 0px 1px 2px rgba(60, 64, 67, 0.3), 0px 1px 3px 1px rgba(60, 64, 67, 0.15);\n",
              "      fill: #174EA6;\n",
              "    }\n",
              "\n",
              "    .colab-df-buttons div {\n",
              "      margin-bottom: 4px;\n",
              "    }\n",
              "\n",
              "    [theme=dark] .colab-df-convert {\n",
              "      background-color: #3B4455;\n",
              "      fill: #D2E3FC;\n",
              "    }\n",
              "\n",
              "    [theme=dark] .colab-df-convert:hover {\n",
              "      background-color: #434B5C;\n",
              "      box-shadow: 0px 1px 3px 1px rgba(0, 0, 0, 0.15);\n",
              "      filter: drop-shadow(0px 1px 2px rgba(0, 0, 0, 0.3));\n",
              "      fill: #FFFFFF;\n",
              "    }\n",
              "  </style>\n",
              "\n",
              "    <script>\n",
              "      const buttonEl =\n",
              "        document.querySelector('#df-fb4a73f3-6ac9-48d0-8fa1-cb7b2071b427 button.colab-df-convert');\n",
              "      buttonEl.style.display =\n",
              "        google.colab.kernel.accessAllowed ? 'block' : 'none';\n",
              "\n",
              "      async function convertToInteractive(key) {\n",
              "        const element = document.querySelector('#df-fb4a73f3-6ac9-48d0-8fa1-cb7b2071b427');\n",
              "        const dataTable =\n",
              "          await google.colab.kernel.invokeFunction('convertToInteractive',\n",
              "                                                    [key], {});\n",
              "        if (!dataTable) return;\n",
              "\n",
              "        const docLinkHtml = 'Like what you see? Visit the ' +\n",
              "          '<a target=\"_blank\" href=https://colab.research.google.com/notebooks/data_table.ipynb>data table notebook</a>'\n",
              "          + ' to learn more about interactive tables.';\n",
              "        element.innerHTML = '';\n",
              "        dataTable['output_type'] = 'display_data';\n",
              "        await google.colab.output.renderOutput(dataTable, element);\n",
              "        const docLink = document.createElement('div');\n",
              "        docLink.innerHTML = docLinkHtml;\n",
              "        element.appendChild(docLink);\n",
              "      }\n",
              "    </script>\n",
              "  </div>\n",
              "\n",
              "\n",
              "<div id=\"df-e8aa31d5-954e-4b57-b1de-6c4a10501a5c\">\n",
              "  <button class=\"colab-df-quickchart\" onclick=\"quickchart('df-e8aa31d5-954e-4b57-b1de-6c4a10501a5c')\"\n",
              "            title=\"Suggest charts\"\n",
              "            style=\"display:none;\">\n",
              "\n",
              "<svg xmlns=\"http://www.w3.org/2000/svg\" height=\"24px\"viewBox=\"0 0 24 24\"\n",
              "     width=\"24px\">\n",
              "    <g>\n",
              "        <path d=\"M19 3H5c-1.1 0-2 .9-2 2v14c0 1.1.9 2 2 2h14c1.1 0 2-.9 2-2V5c0-1.1-.9-2-2-2zM9 17H7v-7h2v7zm4 0h-2V7h2v10zm4 0h-2v-4h2v4z\"/>\n",
              "    </g>\n",
              "</svg>\n",
              "  </button>\n",
              "\n",
              "<style>\n",
              "  .colab-df-quickchart {\n",
              "      --bg-color: #E8F0FE;\n",
              "      --fill-color: #1967D2;\n",
              "      --hover-bg-color: #E2EBFA;\n",
              "      --hover-fill-color: #174EA6;\n",
              "      --disabled-fill-color: #AAA;\n",
              "      --disabled-bg-color: #DDD;\n",
              "  }\n",
              "\n",
              "  [theme=dark] .colab-df-quickchart {\n",
              "      --bg-color: #3B4455;\n",
              "      --fill-color: #D2E3FC;\n",
              "      --hover-bg-color: #434B5C;\n",
              "      --hover-fill-color: #FFFFFF;\n",
              "      --disabled-bg-color: #3B4455;\n",
              "      --disabled-fill-color: #666;\n",
              "  }\n",
              "\n",
              "  .colab-df-quickchart {\n",
              "    background-color: var(--bg-color);\n",
              "    border: none;\n",
              "    border-radius: 50%;\n",
              "    cursor: pointer;\n",
              "    display: none;\n",
              "    fill: var(--fill-color);\n",
              "    height: 32px;\n",
              "    padding: 0;\n",
              "    width: 32px;\n",
              "  }\n",
              "\n",
              "  .colab-df-quickchart:hover {\n",
              "    background-color: var(--hover-bg-color);\n",
              "    box-shadow: 0 1px 2px rgba(60, 64, 67, 0.3), 0 1px 3px 1px rgba(60, 64, 67, 0.15);\n",
              "    fill: var(--button-hover-fill-color);\n",
              "  }\n",
              "\n",
              "  .colab-df-quickchart-complete:disabled,\n",
              "  .colab-df-quickchart-complete:disabled:hover {\n",
              "    background-color: var(--disabled-bg-color);\n",
              "    fill: var(--disabled-fill-color);\n",
              "    box-shadow: none;\n",
              "  }\n",
              "\n",
              "  .colab-df-spinner {\n",
              "    border: 2px solid var(--fill-color);\n",
              "    border-color: transparent;\n",
              "    border-bottom-color: var(--fill-color);\n",
              "    animation:\n",
              "      spin 1s steps(1) infinite;\n",
              "  }\n",
              "\n",
              "  @keyframes spin {\n",
              "    0% {\n",
              "      border-color: transparent;\n",
              "      border-bottom-color: var(--fill-color);\n",
              "      border-left-color: var(--fill-color);\n",
              "    }\n",
              "    20% {\n",
              "      border-color: transparent;\n",
              "      border-left-color: var(--fill-color);\n",
              "      border-top-color: var(--fill-color);\n",
              "    }\n",
              "    30% {\n",
              "      border-color: transparent;\n",
              "      border-left-color: var(--fill-color);\n",
              "      border-top-color: var(--fill-color);\n",
              "      border-right-color: var(--fill-color);\n",
              "    }\n",
              "    40% {\n",
              "      border-color: transparent;\n",
              "      border-right-color: var(--fill-color);\n",
              "      border-top-color: var(--fill-color);\n",
              "    }\n",
              "    60% {\n",
              "      border-color: transparent;\n",
              "      border-right-color: var(--fill-color);\n",
              "    }\n",
              "    80% {\n",
              "      border-color: transparent;\n",
              "      border-right-color: var(--fill-color);\n",
              "      border-bottom-color: var(--fill-color);\n",
              "    }\n",
              "    90% {\n",
              "      border-color: transparent;\n",
              "      border-bottom-color: var(--fill-color);\n",
              "    }\n",
              "  }\n",
              "</style>\n",
              "\n",
              "  <script>\n",
              "    async function quickchart(key) {\n",
              "      const quickchartButtonEl =\n",
              "        document.querySelector('#' + key + ' button');\n",
              "      quickchartButtonEl.disabled = true;  // To prevent multiple clicks.\n",
              "      quickchartButtonEl.classList.add('colab-df-spinner');\n",
              "      try {\n",
              "        const charts = await google.colab.kernel.invokeFunction(\n",
              "            'suggestCharts', [key], {});\n",
              "      } catch (error) {\n",
              "        console.error('Error during call to suggestCharts:', error);\n",
              "      }\n",
              "      quickchartButtonEl.classList.remove('colab-df-spinner');\n",
              "      quickchartButtonEl.classList.add('colab-df-quickchart-complete');\n",
              "    }\n",
              "    (() => {\n",
              "      let quickchartButtonEl =\n",
              "        document.querySelector('#df-e8aa31d5-954e-4b57-b1de-6c4a10501a5c button');\n",
              "      quickchartButtonEl.style.display =\n",
              "        google.colab.kernel.accessAllowed ? 'block' : 'none';\n",
              "    })();\n",
              "  </script>\n",
              "</div>\n",
              "\n",
              "  <div id=\"id_f677f845-693f-4625-9195-fc2790313018\">\n",
              "    <style>\n",
              "      .colab-df-generate {\n",
              "        background-color: #E8F0FE;\n",
              "        border: none;\n",
              "        border-radius: 50%;\n",
              "        cursor: pointer;\n",
              "        display: none;\n",
              "        fill: #1967D2;\n",
              "        height: 32px;\n",
              "        padding: 0 0 0 0;\n",
              "        width: 32px;\n",
              "      }\n",
              "\n",
              "      .colab-df-generate:hover {\n",
              "        background-color: #E2EBFA;\n",
              "        box-shadow: 0px 1px 2px rgba(60, 64, 67, 0.3), 0px 1px 3px 1px rgba(60, 64, 67, 0.15);\n",
              "        fill: #174EA6;\n",
              "      }\n",
              "\n",
              "      [theme=dark] .colab-df-generate {\n",
              "        background-color: #3B4455;\n",
              "        fill: #D2E3FC;\n",
              "      }\n",
              "\n",
              "      [theme=dark] .colab-df-generate:hover {\n",
              "        background-color: #434B5C;\n",
              "        box-shadow: 0px 1px 3px 1px rgba(0, 0, 0, 0.15);\n",
              "        filter: drop-shadow(0px 1px 2px rgba(0, 0, 0, 0.3));\n",
              "        fill: #FFFFFF;\n",
              "      }\n",
              "    </style>\n",
              "    <button class=\"colab-df-generate\" onclick=\"generateWithVariable('results_df3')\"\n",
              "            title=\"Generate code using this dataframe.\"\n",
              "            style=\"display:none;\">\n",
              "\n",
              "  <svg xmlns=\"http://www.w3.org/2000/svg\" height=\"24px\"viewBox=\"0 0 24 24\"\n",
              "       width=\"24px\">\n",
              "    <path d=\"M7,19H8.4L18.45,9,17,7.55,7,17.6ZM5,21V16.75L18.45,3.32a2,2,0,0,1,2.83,0l1.4,1.43a1.91,1.91,0,0,1,.58,1.4,1.91,1.91,0,0,1-.58,1.4L9.25,21ZM18.45,9,17,7.55Zm-12,3A5.31,5.31,0,0,0,4.9,8.1,5.31,5.31,0,0,0,1,6.5,5.31,5.31,0,0,0,4.9,4.9,5.31,5.31,0,0,0,6.5,1,5.31,5.31,0,0,0,8.1,4.9,5.31,5.31,0,0,0,12,6.5,5.46,5.46,0,0,0,6.5,12Z\"/>\n",
              "  </svg>\n",
              "    </button>\n",
              "    <script>\n",
              "      (() => {\n",
              "      const buttonEl =\n",
              "        document.querySelector('#id_f677f845-693f-4625-9195-fc2790313018 button.colab-df-generate');\n",
              "      buttonEl.style.display =\n",
              "        google.colab.kernel.accessAllowed ? 'block' : 'none';\n",
              "\n",
              "      buttonEl.onclick = () => {\n",
              "        google.colab.notebook.generateWithVariable('results_df3');\n",
              "      }\n",
              "      })();\n",
              "    </script>\n",
              "  </div>\n",
              "\n",
              "    </div>\n",
              "  </div>\n"
            ],
            "application/vnd.google.colaboratory.intrinsic+json": {
              "type": "dataframe",
              "variable_name": "results_df3",
              "summary": "{\n  \"name\": \"results_df3\",\n  \"rows\": 4,\n  \"fields\": [\n    {\n      \"column\": \"Recall\",\n      \"properties\": {\n        \"dtype\": \"number\",\n        \"std\": 0.033557802760701215,\n        \"min\": 0.7972972972972973,\n        \"max\": 0.8716216216216216,\n        \"num_unique_values\": 4,\n        \"samples\": [\n          0.8243243243243243,\n          0.7972972972972973,\n          0.8716216216216216\n        ],\n        \"semantic_type\": \"\",\n        \"description\": \"\"\n      }\n    },\n    {\n      \"column\": \"Precision\",\n      \"properties\": {\n        \"dtype\": \"number\",\n        \"std\": 0.2827160426838189,\n        \"min\": 0.05740987983978638,\n        \"max\": 0.7,\n        \"num_unique_values\": 4,\n        \"samples\": [\n          0.270509977827051,\n          0.1581769436997319,\n          0.05740987983978638\n        ],\n        \"semantic_type\": \"\",\n        \"description\": \"\"\n      }\n    },\n    {\n      \"column\": \"f1-score\",\n      \"properties\": {\n        \"dtype\": \"number\",\n        \"std\": 0.2732928128459089,\n        \"min\": 0.10772442588726514,\n        \"max\": 0.7484276729559748,\n        \"num_unique_values\": 4,\n        \"samples\": [\n          0.4073455759599332,\n          0.2639821029082774,\n          0.10772442588726514\n        ],\n        \"semantic_type\": \"\",\n        \"description\": \"\"\n      }\n    }\n  ]\n}"
            }
          },
          "metadata": {},
          "execution_count": 26
        }
      ],
      "source": [
        "lr03 = LogisticRegression()\n",
        "knn03 = KNeighborsClassifier(n_neighbors=15)\n",
        "rf03 = RandomForestClassifier(max_depth = 15, random_state = 23, n_jobs=-1)\n",
        "dt03 = DecisionTreeClassifier(random_state=23, max_depth=10)\n",
        "\n",
        "lr03.fit(X_train_smote, y_train_smote['Class'])\n",
        "knn03.fit(X_train_smote, y_train_smote['Class'])\n",
        "rf03.fit(X_train_smote, y_train_smote['Class'])\n",
        "dt03.fit(X_train_smote, y_train_smote['Class'])\n",
        "\n",
        "y_hat_lr03 = lr03.predict(X_test_smote)\n",
        "y_hat_knn03 = knn03.predict(X_test_smote)\n",
        "y_hat_rf03 = rf03.predict(X_test_smote)\n",
        "y_hat_dt03 = dt03.predict(X_test_smote)\n",
        "\n",
        "r_lr03, p_lr03, f1_lr03 = recall_score(y_test_smote, y_hat_lr03), precision_score(y_test_smote, y_hat_lr03), f1_score(y_test_smote, y_hat_lr03)\n",
        "r_knn03, p_knn03, f1_knn03 = recall_score(y_test_smote, y_hat_knn03), precision_score(y_test_smote, y_hat_knn03), f1_score(y_test_smote, y_hat_knn03) # Changed f1_knn033 to f1_knn03\n",
        "r_rf03, p_rf03, f1_rf03  = recall_score(y_test_smote, y_hat_rf03), precision_score(y_test_smote, y_hat_rf03), f1_score(y_test_smote, y_hat_rf03)\n",
        "r_dt03, p_dt03, f1_dt03  = recall_score(y_test_smote, y_hat_dt03), precision_score(y_test_smote, y_hat_dt03), f1_score(y_test_smote, y_hat_dt03)\n",
        "\n",
        "data = {'Recall': [r_lr03, r_knn03, r_rf03, r_dt03],\n",
        "        'Precision': [p_lr03, p_knn03, p_rf03, p_dt03],\n",
        "        'f1-score': [f1_lr03, f1_knn03, f1_rf03, f1_dt03]} # Now uses the correctly defined f1_knn03\n",
        "\n",
        "results_df3 = pd.DataFrame(data = data, index = ['Logistic Regression', 'KNN', 'Random Forest', 'Decision Tree'])\n",
        "results_df3"
      ]
    },
    {
      "cell_type": "code",
      "execution_count": null,
      "id": "2f33f0dd-1da5-4415-a2b1-9c39d70ee00a",
      "metadata": {
        "colab": {
          "base_uri": "https://localhost:8080/",
          "height": 480
        },
        "id": "2f33f0dd-1da5-4415-a2b1-9c39d70ee00a",
        "outputId": "01d01c75-8e2a-478e-9602-a549f32c984f"
      },
      "outputs": [
        {
          "output_type": "display_data",
          "data": {
            "text/plain": [
              "<Figure size 640x480 with 1 Axes>"
            ],
            "image/png": "[encoded data removed]"
          },
          "metadata": {}
        }
      ],
      "source": [
        "display = PrecisionRecallDisplay.from_estimator(lr03, X_test_smote, y_test_smote, ax = plt.gca(), name='Logistic Regression')\n",
        "display = PrecisionRecallDisplay.from_estimator(knn03, X_test_smote,  y_test_smote,ax = plt.gca(),name='KNN Classifier')\n",
        "display = PrecisionRecallDisplay.from_estimator(rf03, X_test_smote,  y_test_smote,ax = plt.gca(),name='Random Forest Classifier')\n",
        "display = PrecisionRecallDisplay.from_estimator(dt03, X_test_smote,  y_test_smote,ax = plt.gca(),name='Decision Tree Classifier')\n",
        "\n",
        "_ = display.ax_.set_title('Precision-Recall curve - Stratified Random Sampling')"
      ]
    },
    {
      "cell_type": "markdown",
      "id": "44085e02-e671-4d70-b90d-824f530ee075",
      "metadata": {
        "id": "44085e02-e671-4d70-b90d-824f530ee075"
      },
      "source": [
        "### Summary\n",
        "\n",
        "##### Business Goal-1: Minimizing False Negatives(Focus is to capture max # Fradulent Transactions) -> High Recall\n",
        "- In this case, we are ok with flagging normal transactions as fradulent transactions, but it's more costly to miss a fraudulent transaction.\n",
        "- We send all fraudulent transactions to next round of human inspection where false positives are filtered out.\n",
        "- But, if we miss capturing a fradulent transaction, there is no way to mitigate it.\n",
        "\n",
        "##### Business Goal-2: Minimizing False Positives(Focus is to correctly predict Fraudulent Transactions) -> High Precision\n",
        "- In this case, we are ok with not capturing some fradulent transactions, but it's more costly to falsely label a normal transaction as a fraudulent transaction.\n",
        "- Here, cost of human inspection is more than the cost of missing to capture a fraudulent transaction.\n",
        "     \n",
        "##### Business Goal-3: We care a lot about finding the positive examples -> High AUPRC or Average Precision\n",
        "- We want our model to correctly label max # of fradulent transactions (high recall) without accidentally marking any normal transactions as fradulent(high precision). The `average precision` is one particular method for calculating the AUPRC.\n",
        "\n",
        "1. For Business Goal-1, `Random Forest Classifier` seems to be better suited with the highest recall of 0.78 on the Fradulent Class.\n",
        "2. For Business Goal-2 also, `Random Forest Classifier` seems to be better suited with the highest recall of 0.90 on the Fradulent Class.\n",
        "3. For Business Goal-3 also, `Random Forest Classifier` seems to be better suited with the highest recall of 0.71 on the Fradulent Class."
      ]
    }
  ],
  "metadata": {
    "kernelspec": {
      "display_name": "Python 3",
      "name": "python3"
    },
    "language_info": {
      "codemirror_mode": {
        "name": "ipython",
        "version": 3
      },
      "file_extension": ".py",
      "mimetype": "text/x-python",
      "name": "python",
      "nbconvert_exporter": "python",
      "pygments_lexer": "ipython3",
      "version": "3.9.12"
    },
    "colab": {
      "provenance": [],
      "gpuType": "T4",
      "include_colab_link": true
    },
    "accelerator": "GPU"
  },
  "nbformat": 4,
  "nbformat_minor": 5
}