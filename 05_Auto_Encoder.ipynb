{
  "cells": [
    {
      "cell_type": "markdown",
      "metadata": {
        "id": "view-in-github",
        "colab_type": "text"
      },
      "source": [
        "<a href=\"https://colab.research.google.com/github/yashs79/financialaranomaly/blob/main/05_Auto_Encoder.ipynb\" target=\"_parent\"><img src=\"https://colab.research.google.com/assets/colab-badge.svg\" alt=\"Open In Colab\"/></a>"
      ]
    },
    {
      "cell_type": "code",
      "execution_count": null,
      "id": "829caf0c-355f-49ec-95cd-792ce9ac7ae4",
      "metadata": {
        "id": "829caf0c-355f-49ec-95cd-792ce9ac7ae4"
      },
      "outputs": [],
      "source": [
        "import pandas as pd\n",
        "import numpy as np\n",
        "from scipy import stats\n",
        "import matplotlib.pyplot as plt\n",
        "%matplotlib inline\n",
        "import seaborn as sns\n",
        "sns.set(style=\"whitegrid\")\n",
        "\n",
        "# pre-processing\n",
        "from sklearn.model_selection import train_test_split, GridSearchCV\n",
        "from sklearn.preprocessing import StandardScaler\n",
        "from sklearn.compose import ColumnTransformer\n",
        "\n",
        "# classification models\n",
        "from sklearn.ensemble import IsolationForest\n",
        "from sklearn.neighbors import LocalOutlierFactor\n",
        "from sklearn.mixture import GaussianMixture\n",
        "\n",
        "# performance metrics\n",
        "from sklearn.metrics import accuracy_score, precision_score, recall_score, f1_score, roc_auc_score, confusion_matrix, classification_report, make_scorer\n",
        "from sklearn.metrics import auc, roc_curve, average_precision_score, PrecisionRecallDisplay\n",
        "np.random.seed(23)\n",
        "\n",
        "import tensorflow as tf\n",
        "from tensorflow.keras.models import Model"
      ]
    },
    {
      "cell_type": "code",
      "execution_count": null,
      "id": "ca72ce74-9f80-4b83-9009-36297e28dfc1",
      "metadata": {
        "id": "ca72ce74-9f80-4b83-9009-36297e28dfc1"
      },
      "outputs": [],
      "source": [
        "raw_data = pd.read_csv('/content/creditcard.csv')\n",
        "\n",
        "# Stratified Random Sampling\n",
        "X_train_strat = pd.read_csv('/content//X_train_strat.csv')\n",
        "X_test_strat = pd.read_csv('/content/X_test_strat.csv')\n",
        "y_train_strat = pd.read_csv('/content/y_train_strat.csv')\n",
        "y_test_strat = pd.read_csv('/content/y_test_strat.csv')\n",
        "\n",
        "# Over Sampling\n",
        "X_train_os = pd.read_csv('/content/X_train_os.csv')\n",
        "X_test_os = pd.read_csv('/content/X_test_os.csv')\n",
        "y_train_os = pd.read_csv('/content/y_train_os.csv')\n",
        "y_test_os = pd.read_csv('/content/y_test_os.csv')\n",
        "\n",
        "# Over Sampling with SMOTE\n",
        "X_train_smote = pd.read_csv('/content/X_train_smote.csv')\n",
        "X_test_smote = pd.read_csv('/content/X_test_smote.csv')\n",
        "y_train_smote = pd.read_csv('/content/y_train_smote.csv')\n",
        "y_test_smote = pd.read_csv('/content/y_test_smote.csv')"
      ]
    },
    {
      "cell_type": "code",
      "execution_count": null,
      "id": "fdddcb3d-7b13-4542-8847-8eeab7e4197e",
      "metadata": {
        "id": "fdddcb3d-7b13-4542-8847-8eeab7e4197e"
      },
      "outputs": [],
      "source": [
        "def get_predictions(model, x_test_scaled, threshold):\n",
        "\n",
        "    predictions = model.predict(x_test_scaled)\n",
        "\n",
        "    # provides losses of individual instances\n",
        "    errors = tf.keras.losses.mae(predictions, x_test_scaled)\n",
        "\n",
        "    # 1 = anomaly, 0 = normal\n",
        "\n",
        "    anomaly_mask = pd.Series(errors) > threshold\n",
        "    preds = anomaly_mask.map(lambda x: 1.0 if x == True else 0.0)\n",
        "    return preds"
      ]
    },
    {
      "cell_type": "markdown",
      "id": "e2634429-00d0-460d-8367-501339c9ca69",
      "metadata": {
        "id": "e2634429-00d0-460d-8367-501339c9ca69"
      },
      "source": [
        "## 1. 30->16->8->4"
      ]
    },
    {
      "cell_type": "code",
      "execution_count": null,
      "id": "52cc900c-e70a-4f0a-8efc-a855f787f5d8",
      "metadata": {
        "id": "52cc900c-e70a-4f0a-8efc-a855f787f5d8"
      },
      "outputs": [],
      "source": [
        "# 30 -> 25 -> 20 -> 15\n",
        "class AutoEncoder(Model):\n",
        "\n",
        "    def __init__(self):\n",
        "\n",
        "        super(AutoEncoder, self).__init__()\n",
        "\n",
        "        self.encoder = tf.keras.Sequential([\n",
        "                       tf.keras.layers.Dense(24, activation=\"relu\"),\n",
        "                       tf.keras.layers.Dense(16, activation=\"relu\"),\n",
        "                       tf.keras.layers.Dense(8, activation=\"relu\"),\n",
        "                       tf.keras.layers.Dense(4, activation=\"relu\"),\n",
        "                       ])\n",
        "\n",
        "        self.decoder = tf.keras.Sequential([\n",
        "                       tf.keras.layers.Dense(8, activation=\"relu\"),\n",
        "                       tf.keras.layers.Dense(16, activation=\"relu\"),\n",
        "                       tf.keras.layers.Dense(24, activation=\"relu\"),\n",
        "                       tf.keras.layers.Dense(30, activation=\"sigmoid\")\n",
        "              ])\n",
        "\n",
        "    def call(self, x):\n",
        "        encoded = self.encoder(x)\n",
        "        decoded = self.decoder(encoded)\n",
        "        return decoded"
      ]
    },
    {
      "cell_type": "code",
      "execution_count": null,
      "id": "2309aa56-5846-4efb-82f7-2988d1ca056a",
      "metadata": {
        "colab": {
          "base_uri": "https://localhost:8080/"
        },
        "id": "2309aa56-5846-4efb-82f7-2988d1ca056a",
        "outputId": "000aeacf-98a8-4594-9cf8-2930ba0e795d"
      },
      "outputs": [
        {
          "output_type": "stream",
          "name": "stdout",
          "text": [
            "X_train_smote.shape=(398040, 30)\n",
            "X_train_os.shape=(492, 30)\n",
            "normal_train_data.shape=(199020, 30)\n",
            "anomaly_test_data.shape=(148, 30)\n",
            "Epoch 1/50\n",
            "\u001b[1m1659/1659\u001b[0m \u001b[32m━━━━━━━━━━━━━━━━━━━━\u001b[0m\u001b[37m\u001b[0m \u001b[1m8s\u001b[0m 3ms/step - loss: 0.6495 - val_loss: 0.6044\n",
            "Epoch 2/50\n",
            "\u001b[1m1659/1659\u001b[0m \u001b[32m━━━━━━━━━━━━━━━━━━━━\u001b[0m\u001b[37m\u001b[0m \u001b[1m11s\u001b[0m 4ms/step - loss: 0.5983 - val_loss: 0.5975\n",
            "Epoch 3/50\n",
            "\u001b[1m1659/1659\u001b[0m \u001b[32m━━━━━━━━━━━━━━━━━━━━\u001b[0m\u001b[37m\u001b[0m \u001b[1m12s\u001b[0m 4ms/step - loss: 0.5924 - val_loss: 0.5921\n",
            "Epoch 4/50\n",
            "\u001b[1m1659/1659\u001b[0m \u001b[32m━━━━━━━━━━━━━━━━━━━━\u001b[0m\u001b[37m\u001b[0m \u001b[1m9s\u001b[0m 3ms/step - loss: 0.5880 - val_loss: 0.5894\n",
            "Epoch 5/50\n",
            "\u001b[1m1659/1659\u001b[0m \u001b[32m━━━━━━━━━━━━━━━━━━━━\u001b[0m\u001b[37m\u001b[0m \u001b[1m14s\u001b[0m 6ms/step - loss: 0.5843 - val_loss: 0.5872\n",
            "Epoch 6/50\n",
            "\u001b[1m1659/1659\u001b[0m \u001b[32m━━━━━━━━━━━━━━━━━━━━\u001b[0m\u001b[37m\u001b[0m \u001b[1m7s\u001b[0m 4ms/step - loss: 0.5828 - val_loss: 0.5848\n",
            "Epoch 7/50\n",
            "\u001b[1m1659/1659\u001b[0m \u001b[32m━━━━━━━━━━━━━━━━━━━━\u001b[0m\u001b[37m\u001b[0m \u001b[1m6s\u001b[0m 3ms/step - loss: 0.5812 - val_loss: 0.5831\n",
            "Epoch 8/50\n",
            "\u001b[1m1659/1659\u001b[0m \u001b[32m━━━━━━━━━━━━━━━━━━━━\u001b[0m\u001b[37m\u001b[0m \u001b[1m7s\u001b[0m 4ms/step - loss: 0.5789 - val_loss: 0.5822\n",
            "Epoch 9/50\n",
            "\u001b[1m1659/1659\u001b[0m \u001b[32m━━━━━━━━━━━━━━━━━━━━\u001b[0m\u001b[37m\u001b[0m \u001b[1m8s\u001b[0m 3ms/step - loss: 0.5779 - val_loss: 0.5815\n",
            "Epoch 10/50\n",
            "\u001b[1m1659/1659\u001b[0m \u001b[32m━━━━━━━━━━━━━━━━━━━━\u001b[0m\u001b[37m\u001b[0m \u001b[1m6s\u001b[0m 4ms/step - loss: 0.5784 - val_loss: 0.5807\n",
            "Epoch 11/50\n",
            "\u001b[1m1659/1659\u001b[0m \u001b[32m━━━━━━━━━━━━━━━━━━━━\u001b[0m\u001b[37m\u001b[0m \u001b[1m10s\u001b[0m 3ms/step - loss: 0.5769 - val_loss: 0.5806\n",
            "Epoch 12/50\n",
            "\u001b[1m1659/1659\u001b[0m \u001b[32m━━━━━━━━━━━━━━━━━━━━\u001b[0m\u001b[37m\u001b[0m \u001b[1m10s\u001b[0m 6ms/step - loss: 0.5760 - val_loss: 0.5797\n",
            "Epoch 13/50\n",
            "\u001b[1m1659/1659\u001b[0m \u001b[32m━━━━━━━━━━━━━━━━━━━━\u001b[0m\u001b[37m\u001b[0m \u001b[1m6s\u001b[0m 3ms/step - loss: 0.5757 - val_loss: 0.5797\n",
            "Epoch 14/50\n",
            "\u001b[1m1659/1659\u001b[0m \u001b[32m━━━━━━━━━━━━━━━━━━━━\u001b[0m\u001b[37m\u001b[0m \u001b[1m11s\u001b[0m 4ms/step - loss: 0.5767 - val_loss: 0.5790\n",
            "Epoch 15/50\n",
            "\u001b[1m1659/1659\u001b[0m \u001b[32m━━━━━━━━━━━━━━━━━━━━\u001b[0m\u001b[37m\u001b[0m \u001b[1m5s\u001b[0m 3ms/step - loss: 0.5737 - val_loss: 0.5788\n",
            "Epoch 16/50\n",
            "\u001b[1m1659/1659\u001b[0m \u001b[32m━━━━━━━━━━━━━━━━━━━━\u001b[0m\u001b[37m\u001b[0m \u001b[1m8s\u001b[0m 5ms/step - loss: 0.5752 - val_loss: 0.5789\n",
            "Epoch 17/50\n",
            "\u001b[1m1659/1659\u001b[0m \u001b[32m━━━━━━━━━━━━━━━━━━━━\u001b[0m\u001b[37m\u001b[0m \u001b[1m8s\u001b[0m 3ms/step - loss: 0.5746 - val_loss: 0.5784\n",
            "Epoch 18/50\n",
            "\u001b[1m1659/1659\u001b[0m \u001b[32m━━━━━━━━━━━━━━━━━━━━\u001b[0m\u001b[37m\u001b[0m \u001b[1m9s\u001b[0m 5ms/step - loss: 0.5746 - val_loss: 0.5781\n",
            "Epoch 19/50\n",
            "\u001b[1m1659/1659\u001b[0m \u001b[32m━━━━━━━━━━━━━━━━━━━━\u001b[0m\u001b[37m\u001b[0m \u001b[1m8s\u001b[0m 5ms/step - loss: 0.5736 - val_loss: 0.5782\n",
            "Epoch 20/50\n",
            "\u001b[1m1659/1659\u001b[0m \u001b[32m━━━━━━━━━━━━━━━━━━━━\u001b[0m\u001b[37m\u001b[0m \u001b[1m9s\u001b[0m 4ms/step - loss: 0.5743 - val_loss: 0.5777\n",
            "Epoch 21/50\n",
            "\u001b[1m1659/1659\u001b[0m \u001b[32m━━━━━━━━━━━━━━━━━━━━\u001b[0m\u001b[37m\u001b[0m \u001b[1m9s\u001b[0m 4ms/step - loss: 0.5728 - val_loss: 0.5775\n",
            "Epoch 22/50\n",
            "\u001b[1m1659/1659\u001b[0m \u001b[32m━━━━━━━━━━━━━━━━━━━━\u001b[0m\u001b[37m\u001b[0m \u001b[1m8s\u001b[0m 5ms/step - loss: 0.5741 - val_loss: 0.5778\n",
            "Epoch 23/50\n",
            "\u001b[1m1659/1659\u001b[0m \u001b[32m━━━━━━━━━━━━━━━━━━━━\u001b[0m\u001b[37m\u001b[0m \u001b[1m9s\u001b[0m 4ms/step - loss: 0.5735 - val_loss: 0.5773\n",
            "Epoch 24/50\n",
            "\u001b[1m1659/1659\u001b[0m \u001b[32m━━━━━━━━━━━━━━━━━━━━\u001b[0m\u001b[37m\u001b[0m \u001b[1m8s\u001b[0m 5ms/step - loss: 0.5741 - val_loss: 0.5769\n",
            "Epoch 25/50\n",
            "\u001b[1m1659/1659\u001b[0m \u001b[32m━━━━━━━━━━━━━━━━━━━━\u001b[0m\u001b[37m\u001b[0m \u001b[1m6s\u001b[0m 3ms/step - loss: 0.5729 - val_loss: 0.5769\n",
            "Epoch 26/50\n",
            "\u001b[1m1659/1659\u001b[0m \u001b[32m━━━━━━━━━━━━━━━━━━━━\u001b[0m\u001b[37m\u001b[0m \u001b[1m10s\u001b[0m 4ms/step - loss: 0.5720 - val_loss: 0.5768\n",
            "Epoch 27/50\n",
            "\u001b[1m1659/1659\u001b[0m \u001b[32m━━━━━━━━━━━━━━━━━━━━\u001b[0m\u001b[37m\u001b[0m \u001b[1m14s\u001b[0m 6ms/step - loss: 0.5716 - val_loss: 0.5765\n",
            "Epoch 28/50\n",
            "\u001b[1m1659/1659\u001b[0m \u001b[32m━━━━━━━━━━━━━━━━━━━━\u001b[0m\u001b[37m\u001b[0m \u001b[1m6s\u001b[0m 3ms/step - loss: 0.5722 - val_loss: 0.5760\n",
            "Epoch 29/50\n",
            "\u001b[1m1659/1659\u001b[0m \u001b[32m━━━━━━━━━━━━━━━━━━━━\u001b[0m\u001b[37m\u001b[0m \u001b[1m10s\u001b[0m 3ms/step - loss: 0.5723 - val_loss: 0.5750\n",
            "Epoch 30/50\n",
            "\u001b[1m1659/1659\u001b[0m \u001b[32m━━━━━━━━━━━━━━━━━━━━\u001b[0m\u001b[37m\u001b[0m \u001b[1m5s\u001b[0m 3ms/step - loss: 0.5720 - val_loss: 0.5751\n",
            "Epoch 31/50\n",
            "\u001b[1m1659/1659\u001b[0m \u001b[32m━━━━━━━━━━━━━━━━━━━━\u001b[0m\u001b[37m\u001b[0m \u001b[1m8s\u001b[0m 5ms/step - loss: 0.5696 - val_loss: 0.5749\n",
            "Epoch 32/50\n",
            "\u001b[1m1659/1659\u001b[0m \u001b[32m━━━━━━━━━━━━━━━━━━━━\u001b[0m\u001b[37m\u001b[0m \u001b[1m5s\u001b[0m 3ms/step - loss: 0.5703 - val_loss: 0.5747\n",
            "Epoch 33/50\n",
            "\u001b[1m1659/1659\u001b[0m \u001b[32m━━━━━━━━━━━━━━━━━━━━\u001b[0m\u001b[37m\u001b[0m \u001b[1m8s\u001b[0m 5ms/step - loss: 0.5709 - val_loss: 0.5743\n",
            "Epoch 34/50\n",
            "\u001b[1m1659/1659\u001b[0m \u001b[32m━━━━━━━━━━━━━━━━━━━━\u001b[0m\u001b[37m\u001b[0m \u001b[1m7s\u001b[0m 3ms/step - loss: 0.5711 - val_loss: 0.5744\n",
            "Epoch 35/50\n",
            "\u001b[1m1659/1659\u001b[0m \u001b[32m━━━━━━━━━━━━━━━━━━━━\u001b[0m\u001b[37m\u001b[0m \u001b[1m8s\u001b[0m 5ms/step - loss: 0.5694 - val_loss: 0.5739\n",
            "Epoch 36/50\n",
            "\u001b[1m1659/1659\u001b[0m \u001b[32m━━━━━━━━━━━━━━━━━━━━\u001b[0m\u001b[37m\u001b[0m \u001b[1m6s\u001b[0m 4ms/step - loss: 0.5723 - val_loss: 0.5739\n",
            "Epoch 37/50\n",
            "\u001b[1m1659/1659\u001b[0m \u001b[32m━━━━━━━━━━━━━━━━━━━━\u001b[0m\u001b[37m\u001b[0m \u001b[1m12s\u001b[0m 4ms/step - loss: 0.5694 - val_loss: 0.5744\n",
            "Epoch 38/50\n",
            "\u001b[1m1659/1659\u001b[0m \u001b[32m━━━━━━━━━━━━━━━━━━━━\u001b[0m\u001b[37m\u001b[0m \u001b[1m5s\u001b[0m 3ms/step - loss: 0.5714 - val_loss: 0.5741\n",
            "Epoch 39/50\n",
            "\u001b[1m1659/1659\u001b[0m \u001b[32m━━━━━━━━━━━━━━━━━━━━\u001b[0m\u001b[37m\u001b[0m \u001b[1m11s\u001b[0m 4ms/step - loss: 0.5697 - val_loss: 0.5735\n",
            "Epoch 40/50\n",
            "\u001b[1m1659/1659\u001b[0m \u001b[32m━━━━━━━━━━━━━━━━━━━━\u001b[0m\u001b[37m\u001b[0m \u001b[1m6s\u001b[0m 3ms/step - loss: 0.5698 - val_loss: 0.5738\n",
            "Epoch 41/50\n",
            "\u001b[1m1659/1659\u001b[0m \u001b[32m━━━━━━━━━━━━━━━━━━━━\u001b[0m\u001b[37m\u001b[0m \u001b[1m11s\u001b[0m 7ms/step - loss: 0.5694 - val_loss: 0.5740\n",
            "Epoch 42/50\n",
            "\u001b[1m1659/1659\u001b[0m \u001b[32m━━━━━━━━━━━━━━━━━━━━\u001b[0m\u001b[37m\u001b[0m \u001b[1m18s\u001b[0m 5ms/step - loss: 0.5693 - val_loss: 0.5731\n",
            "Epoch 43/50\n",
            "\u001b[1m1659/1659\u001b[0m \u001b[32m━━━━━━━━━━━━━━━━━━━━\u001b[0m\u001b[37m\u001b[0m \u001b[1m5s\u001b[0m 3ms/step - loss: 0.5694 - val_loss: 0.5732\n",
            "Epoch 44/50\n",
            "\u001b[1m1659/1659\u001b[0m \u001b[32m━━━━━━━━━━━━━━━━━━━━\u001b[0m\u001b[37m\u001b[0m \u001b[1m8s\u001b[0m 5ms/step - loss: 0.5688 - val_loss: 0.5734\n",
            "Epoch 45/50\n",
            "\u001b[1m1659/1659\u001b[0m \u001b[32m━━━━━━━━━━━━━━━━━━━━\u001b[0m\u001b[37m\u001b[0m \u001b[1m5s\u001b[0m 3ms/step - loss: 0.5696 - val_loss: 0.5734\n",
            "Epoch 46/50\n",
            "\u001b[1m1659/1659\u001b[0m \u001b[32m━━━━━━━━━━━━━━━━━━━━\u001b[0m\u001b[37m\u001b[0m \u001b[1m6s\u001b[0m 4ms/step - loss: 0.5693 - val_loss: 0.5739\n",
            "Epoch 47/50\n",
            "\u001b[1m1659/1659\u001b[0m \u001b[32m━━━━━━━━━━━━━━━━━━━━\u001b[0m\u001b[37m\u001b[0m \u001b[1m7s\u001b[0m 4ms/step - loss: 0.5694 - val_loss: 0.5729\n",
            "Epoch 48/50\n",
            "\u001b[1m1659/1659\u001b[0m \u001b[32m━━━━━━━━━━━━━━━━━━━━\u001b[0m\u001b[37m\u001b[0m \u001b[1m5s\u001b[0m 3ms/step - loss: 0.5692 - val_loss: 0.5734\n",
            "Epoch 49/50\n",
            "\u001b[1m1659/1659\u001b[0m \u001b[32m━━━━━━━━━━━━━━━━━━━━\u001b[0m\u001b[37m\u001b[0m \u001b[1m11s\u001b[0m 4ms/step - loss: 0.5695 - val_loss: 0.5730\n",
            "Epoch 50/50\n",
            "\u001b[1m1659/1659\u001b[0m \u001b[32m━━━━━━━━━━━━━━━━━━━━\u001b[0m\u001b[37m\u001b[0m \u001b[1m5s\u001b[0m 3ms/step - loss: 0.5684 - val_loss: 0.5730\n"
          ]
        }
      ],
      "source": [
        "normal_train_data = X_train_strat[y_train_strat['Class'] == 0]\n",
        "anomaly_train_data = X_train_strat[y_train_strat['Class'] == 1]\n",
        "normal_test_data = X_test_strat[y_test_strat['Class'] == 0]\n",
        "anomaly_test_data = X_test_strat[y_test_strat['Class'] == 1]\n",
        "\n",
        "print(f'{X_train_smote.shape=}')\n",
        "print(f'{X_train_os.shape=}')\n",
        "print(f'{normal_train_data.shape=}')\n",
        "print(f'{anomaly_test_data.shape=}')\n",
        "\n",
        "model = AutoEncoder()\n",
        "\n",
        "early_stopping = tf.keras.callbacks.EarlyStopping(monitor=\"val_loss\", patience=5, mode=\"min\")\n",
        "\n",
        "model.compile(optimizer='adam', loss=\"mae\")\n",
        "\n",
        "history = model.fit(normal_train_data, normal_train_data, epochs=50, batch_size=120,\n",
        "                    validation_data=(X_train_strat, X_train_strat),\n",
        "                    shuffle=True,\n",
        "                    callbacks=[early_stopping]\n",
        "                    )"
      ]
    },
    {
      "cell_type": "code",
      "execution_count": null,
      "id": "8c183698-f921-4aa3-a684-f4232d7ee12f",
      "metadata": {
        "colab": {
          "base_uri": "https://localhost:8080/",
          "height": 492
        },
        "id": "8c183698-f921-4aa3-a684-f4232d7ee12f",
        "outputId": "4d7367d9-a59d-4f20-b600-2b04553bb3c5"
      },
      "outputs": [
        {
          "output_type": "stream",
          "name": "stdout",
          "text": [
            "\u001b[1m6220/6220\u001b[0m \u001b[32m━━━━━━━━━━━━━━━━━━━━\u001b[0m\u001b[37m\u001b[0m \u001b[1m10s\u001b[0m 2ms/step\n",
            "\u001b[1m11/11\u001b[0m \u001b[32m━━━━━━━━━━━━━━━━━━━━\u001b[0m\u001b[37m\u001b[0m \u001b[1m0s\u001b[0m 3ms/step \n"
          ]
        },
        {
          "output_type": "display_data",
          "data": {
            "text/plain": [
              "<Figure size 640x480 with 1 Axes>"
            ],
            "image/png": "[encoded data removed]"
          },
          "metadata": {}
        }
      ],
      "source": [
        "reconstruction = model.predict(normal_train_data)\n",
        "train_loss = tf.keras.losses.mae(reconstruction, normal_train_data)\n",
        "\n",
        "threshold = np.mean(train_loss) + 2*np.std(train_loss)\n",
        "\n",
        "reconstruction_a = model.predict(anomaly_train_data)\n",
        "train_loss_a = tf.keras.losses.mae(reconstruction_a, anomaly_train_data)\n",
        "\n",
        "plt.hist(train_loss, bins=50, label='normal')\n",
        "plt.hist(train_loss_a, bins=50, label='anomaly')\n",
        "plt.axvline(threshold, color='r', linewidth=3, linestyle='dashed', label='{:0.3f}'.format(threshold))\n",
        "plt.legend(loc='upper right')\n",
        "plt.title(\"Normal and Anomaly Loss\")\n",
        "plt.show()"
      ]
    },
    {
      "cell_type": "code",
      "execution_count": null,
      "id": "2c1f84da-8a29-47f6-a90d-f90aa1a31231",
      "metadata": {
        "colab": {
          "base_uri": "https://localhost:8080/"
        },
        "id": "2c1f84da-8a29-47f6-a90d-f90aa1a31231",
        "outputId": "42f60dfc-0a64-43a5-a632-489b2468e1bc"
      },
      "outputs": [
        {
          "output_type": "execute_result",
          "data": {
            "text/plain": [
              "(0.15737872039451875,\n",
              " 0.5689630739980552,\n",
              " 26.559567536388094,\n",
              " 1.0029292650030568)"
            ]
          },
          "metadata": {},
          "execution_count": 8
        }
      ],
      "source": [
        "np.min(train_loss), np.mean(train_loss), np.max(train_loss), stats.mode(train_loss, keepdims=False)[0]"
      ]
    },
    {
      "cell_type": "code",
      "execution_count": null,
      "id": "7b563f9a-2714-4826-8ecb-922c79bf696d",
      "metadata": {
        "colab": {
          "base_uri": "https://localhost:8080/"
        },
        "id": "7b563f9a-2714-4826-8ecb-922c79bf696d",
        "outputId": "49ac615d-ae9a-4125-b1f2-a78f7866838e"
      },
      "outputs": [
        {
          "output_type": "execute_result",
          "data": {
            "text/plain": [
              "array([0.40276479, 0.51692222, 0.64612733, 0.8114695 , 0.98328155,\n",
              "       1.77480123])"
            ]
          },
          "metadata": {},
          "execution_count": 9
        }
      ],
      "source": [
        "np.quantile(train_loss, [0.25, 0.50, 0.75, 0.90, 0.95, 0.99])"
      ]
    },
    {
      "cell_type": "code",
      "execution_count": null,
      "id": "3dec1346-ee82-488d-ab63-c1dfb621f398",
      "metadata": {
        "colab": {
          "base_uri": "https://localhost:8080/"
        },
        "id": "3dec1346-ee82-488d-ab63-c1dfb621f398",
        "outputId": "f715b981-aa51-437d-93f9-18becfc7d88c"
      },
      "outputs": [
        {
          "output_type": "execute_result",
          "data": {
            "text/plain": [
              "(0.8883951278504986, 1.207827181702942)"
            ]
          },
          "metadata": {},
          "execution_count": 10
        }
      ],
      "source": [
        "np.mean(train_loss) + np.std(train_loss), np.mean(train_loss) + 2*np.std(train_loss)"
      ]
    },
    {
      "cell_type": "code",
      "execution_count": null,
      "id": "470730ba-4a81-42fa-9b6b-ee172170f252",
      "metadata": {
        "colab": {
          "base_uri": "https://localhost:8080/"
        },
        "id": "470730ba-4a81-42fa-9b6b-ee172170f252",
        "outputId": "04ef3553-c925-4a67-fc76-a3e18ccda47a"
      },
      "outputs": [
        {
          "output_type": "execute_result",
          "data": {
            "text/plain": [
              "(0.2782123496050633, 2.8891272899749736, 11.027310436375256, 6.59667032315422)"
            ]
          },
          "metadata": {},
          "execution_count": 11
        }
      ],
      "source": [
        "np.min(train_loss_a), np.mean(train_loss_a), np.max(train_loss_a), stats.mode(train_loss_a, keepdims=False)[0]"
      ]
    },
    {
      "cell_type": "code",
      "execution_count": null,
      "id": "0f0f87a1-3ed1-4fa3-aa4c-513704ef1ef0",
      "metadata": {
        "id": "0f0f87a1-3ed1-4fa3-aa4c-513704ef1ef0"
      },
      "outputs": [],
      "source": [
        "threshold0 = np.mean(train_loss)\n",
        "threshold1 = np.mean(train_loss) + 1*np.std(train_loss)\n",
        "threshold2 = np.mean(train_loss) + 2*np.std(train_loss)"
      ]
    },
    {
      "cell_type": "code",
      "execution_count": null,
      "id": "9d8e7cb0-d226-4157-aff1-86b98cf3da64",
      "metadata": {
        "colab": {
          "base_uri": "https://localhost:8080/"
        },
        "id": "9d8e7cb0-d226-4157-aff1-86b98cf3da64",
        "outputId": "cd87e4e7-f61e-4149-ddd1-0b17a8cf8be6"
      },
      "outputs": [
        {
          "output_type": "execute_result",
          "data": {
            "text/plain": [
              "array([0.62522405, 0.80338387, 1.34553922, 1.48359713, 2.1797215 ,\n",
              "       3.62511303, 6.19631888, 6.54606229, 8.35918959])"
            ]
          },
          "metadata": {},
          "execution_count": 13
        }
      ],
      "source": [
        "np.quantile(train_loss_a, [0.05, 0.1, 0.2, 0.25, 0.50, 0.75, 0.90, 0.95, 0.99])"
      ]
    },
    {
      "cell_type": "code",
      "execution_count": null,
      "id": "5c9dcc3b-2028-441d-8607-f6fb4d318f5a",
      "metadata": {
        "colab": {
          "base_uri": "https://localhost:8080/"
        },
        "id": "5c9dcc3b-2028-441d-8607-f6fb4d318f5a",
        "outputId": "7d938555-8957-4cbc-f8d3-d116243d450d"
      },
      "outputs": [
        {
          "output_type": "stream",
          "name": "stdout",
          "text": [
            "Threshold: 0.5689630739980552\n",
            "\u001b[1m2671/2671\u001b[0m \u001b[32m━━━━━━━━━━━━━━━━━━━━\u001b[0m\u001b[37m\u001b[0m \u001b[1m4s\u001b[0m 1ms/step\n",
            "[[51947 33348]\n",
            " [    9   139]]\n",
            "              precision    recall  f1-score   support\n",
            "\n",
            "           0       1.00      0.61      0.76     85295\n",
            "           1       0.00      0.94      0.01       148\n",
            "\n",
            "    accuracy                           0.61     85443\n",
            "   macro avg       0.50      0.77      0.38     85443\n",
            "weighted avg       1.00      0.61      0.76     85443\n",
            "\n",
            "0.47172269354196256\n"
          ]
        }
      ],
      "source": [
        "print(f\"Threshold: {threshold0}\")\n",
        "\n",
        "predictions = get_predictions(model, X_test_strat, threshold0)\n",
        "\n",
        "print(confusion_matrix(y_test_strat, predictions))# Accuracy\n",
        "print(classification_report(y_test_strat, predictions))\n",
        "\n",
        "# Data to plot precision - recall curve\n",
        "precision, recall, thresholds = precision_recall_curve(y_test_strat, predictions)\n",
        "# Use AUC function to calculate the area under the curve of precision recall curve\n",
        "auc_precision_recall = auc(recall, precision)\n",
        "print(auc_precision_recall)"
      ]
    },
    {
      "cell_type": "code",
      "execution_count": null,
      "id": "0a52b14b-61ac-4c5b-b1ee-dbf56408c212",
      "metadata": {
        "colab": {
          "base_uri": "https://localhost:8080/",
          "height": 451
        },
        "id": "0a52b14b-61ac-4c5b-b1ee-dbf56408c212",
        "outputId": "2046ec69-2d01-4cc7-ce7c-8d8c1f0f90fa"
      },
      "outputs": [
        {
          "output_type": "execute_result",
          "data": {
            "text/plain": [
              "[<matplotlib.lines.Line2D at 0x7cac38273ee0>]"
            ]
          },
          "metadata": {},
          "execution_count": 15
        },
        {
          "output_type": "display_data",
          "data": {
            "text/plain": [
              "<Figure size 640x480 with 1 Axes>"
            ],
            "image/png": "[encoded data removed]"
          },
          "metadata": {}
        }
      ],
      "source": [
        "plt.plot(train_loss)"
      ]
    },
    {
      "cell_type": "code",
      "execution_count": null,
      "id": "f8ea3f70-4488-4d9c-8550-d6460d38b518",
      "metadata": {
        "colab": {
          "base_uri": "https://localhost:8080/"
        },
        "id": "f8ea3f70-4488-4d9c-8550-d6460d38b518",
        "outputId": "d0fafd03-bceb-492b-e28a-0d0913bb8e27"
      },
      "outputs": [
        {
          "output_type": "stream",
          "name": "stdout",
          "text": [
            "Threshold: 0.8883951278504986\n",
            "\u001b[1m2671/2671\u001b[0m \u001b[32m━━━━━━━━━━━━━━━━━━━━\u001b[0m\u001b[37m\u001b[0m \u001b[1m4s\u001b[0m 1ms/step\n",
            "[[79238  6057]\n",
            " [   25   123]]\n",
            "              precision    recall  f1-score   support\n",
            "\n",
            "           0       1.00      0.93      0.96     85295\n",
            "           1       0.02      0.83      0.04       148\n",
            "\n",
            "    accuracy                           0.93     85443\n",
            "   macro avg       0.51      0.88      0.50     85443\n",
            "weighted avg       1.00      0.93      0.96     85443\n",
            "\n",
            "0.425638293212537\n"
          ]
        }
      ],
      "source": [
        "print(f\"Threshold: {threshold1}\")\n",
        "\n",
        "predictions = get_predictions(model, X_test_strat, threshold1)\n",
        "\n",
        "print(confusion_matrix(y_test_strat, predictions))# Accuracy\n",
        "print(classification_report(y_test_strat, predictions))\n",
        "\n",
        "# Data to plot precision - recall curve\n",
        "precision, recall, thresholds = precision_recall_curve(y_test_strat, predictions)\n",
        "# Use AUC function to calculate the area under the curve of precision recall curve\n",
        "auc_precision_recall = auc(recall, precision)\n",
        "print(auc_precision_recall)"
      ]
    },
    {
      "cell_type": "code",
      "execution_count": null,
      "id": "743c3fea-0010-4cb7-9e40-ab798e36b233",
      "metadata": {
        "colab": {
          "base_uri": "https://localhost:8080/"
        },
        "id": "743c3fea-0010-4cb7-9e40-ab798e36b233",
        "outputId": "252961ae-c5fc-4f2f-9c25-3fc2849fb622"
      },
      "outputs": [
        {
          "output_type": "stream",
          "name": "stdout",
          "text": [
            "Threshold: 1.207827181702942\n",
            "\u001b[1m2671/2671\u001b[0m \u001b[32m━━━━━━━━━━━━━━━━━━━━\u001b[0m\u001b[37m\u001b[0m \u001b[1m3s\u001b[0m 1ms/step\n",
            "[[82870  2425]\n",
            " [   27   121]]\n",
            "              precision    recall  f1-score   support\n",
            "\n",
            "           0       1.00      0.97      0.99     85295\n",
            "           1       0.05      0.82      0.09       148\n",
            "\n",
            "    accuracy                           0.97     85443\n",
            "   macro avg       0.52      0.89      0.54     85443\n",
            "weighted avg       1.00      0.97      0.98     85443\n",
            "\n",
            "0.4327045489757656\n"
          ]
        }
      ],
      "source": [
        "print(f\"Threshold: {threshold2}\")\n",
        "\n",
        "predictions = get_predictions(model, X_test_strat, threshold2)\n",
        "\n",
        "print(confusion_matrix(y_test_strat, predictions))# Accuracy\n",
        "print(classification_report(y_test_strat, predictions))\n",
        "\n",
        "# Data to plot precision - recall curve\n",
        "precision, recall, thresholds = precision_recall_curve(y_test_strat, predictions)\n",
        "# Use AUC function to calculate the area under the curve of precision recall curve\n",
        "auc_precision_recall = auc(recall, precision)\n",
        "print(auc_precision_recall)"
      ]
    },
    {
      "cell_type": "code",
      "execution_count": null,
      "id": "1f53ddcb-7306-4610-91a2-fc4a253b37b0",
      "metadata": {
        "colab": {
          "base_uri": "https://localhost:8080/"
        },
        "id": "1f53ddcb-7306-4610-91a2-fc4a253b37b0",
        "outputId": "8d695954-9c84-4daa-e2c5-0eee8cd2cc75"
      },
      "outputs": [
        {
          "output_type": "stream",
          "name": "stdout",
          "text": [
            "Threshold: 0.9832815507582935\n",
            "\u001b[1m2671/2671\u001b[0m \u001b[32m━━━━━━━━━━━━━━━━━━━━\u001b[0m\u001b[37m\u001b[0m \u001b[1m4s\u001b[0m 1ms/step\n",
            "[[81000  4295]\n",
            " [   27   121]]\n",
            "              precision    recall  f1-score   support\n",
            "\n",
            "           0       1.00      0.95      0.97     85295\n",
            "           1       0.03      0.82      0.05       148\n",
            "\n",
            "    accuracy                           0.95     85443\n",
            "   macro avg       0.51      0.88      0.51     85443\n",
            "weighted avg       1.00      0.95      0.97     85443\n",
            "\n",
            "0.4226419650134263\n"
          ]
        }
      ],
      "source": [
        "threshold3 = np.quantile(train_loss, 0.95)\n",
        "print(f\"Threshold: {threshold3}\")\n",
        "\n",
        "predictions = get_predictions(model, X_test_strat, threshold3)\n",
        "\n",
        "print(confusion_matrix(y_test_strat, predictions))# Accuracy\n",
        "print(classification_report(y_test_strat, predictions))\n",
        "\n",
        "# Data to plot precision - recall curve\n",
        "precision, recall, thresholds = precision_recall_curve(y_test_strat, predictions)\n",
        "\n",
        "# Use AUC function to calculate the area under the curve of precision recall curve\n",
        "auc_precision_recall = auc(recall, precision)\n",
        "print(auc_precision_recall)"
      ]
    }
  ],
  "metadata": {
    "kernelspec": {
      "display_name": "Python 3 (ipykernel)",
      "language": "python",
      "name": "python3"
    },
    "language_info": {
      "codemirror_mode": {
        "name": "ipython",
        "version": 3
      },
      "file_extension": ".py",
      "mimetype": "text/x-python",
      "name": "python",
      "nbconvert_exporter": "python",
      "pygments_lexer": "ipython3",
      "version": "3.9.12"
    },
    "colab": {
      "provenance": [],
      "include_colab_link": true
    }
  },
  "nbformat": 4,
  "nbformat_minor": 5
}